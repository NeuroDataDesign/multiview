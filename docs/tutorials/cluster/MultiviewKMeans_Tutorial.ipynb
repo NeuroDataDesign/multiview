{
 "cells": [
  {
   "cell_type": "code",
   "execution_count": 1,
   "metadata": {},
   "outputs": [],
   "source": [
    "from multiview.datasets.base import load_UCImultifeature\n",
    "from multiview.cluster.mv_k_means import MultiviewKMeans\n",
    "import matplotlib.pyplot as plt\n",
    "import numpy as np\n",
    "from sklearn.cluster import KMeans\n",
    "from sklearn.metrics import normalized_mutual_info_score as NMI"
   ]
  },
  {
   "cell_type": "code",
   "execution_count": 2,
   "metadata": {},
   "outputs": [
    {
     "name": "stdout",
     "output_type": "stream",
     "text": [
      "Help on function load_UCImultifeature in module multiview.datasets.base:\n",
      "\n",
      "load_UCImultifeature(select_labeled='all')\n",
      "    Load the UCI multiple features dataset, taken from\n",
      "    https://archive.ics.uci.edu/ml/datasets/Multiple+Features\n",
      "    This data set consists of 6 views of handwritten digit images, with\n",
      "    classes 0-9. The 6 views are the following:\n",
      "    \n",
      "    1. 76 Fourier coefficients of the character shapes\n",
      "    2. 216 profile correlations\n",
      "    3. 64 Karhunen-Love coefficients\n",
      "    4. 240 pixel averages of the images from 2x3 windows\n",
      "    5. 47 Zernike moments\n",
      "    6. 6 morphological features\n",
      "    \n",
      "    Each class contains 200 labeled examples.\n",
      "    \n",
      "    Parameters\n",
      "    ----------\n",
      "    select_labeled : optional, array-like, shape (n_features,) default (all)\n",
      "        A list of the examples that the user wants by label. If not\n",
      "        specified, all examples in the dataset are returned. Repeated labels\n",
      "        are ignored.\n",
      "    \n",
      "    Returns\n",
      "    -------\n",
      "    data : list of np.ndarray, each of size (2000,n_features)\n",
      "        List of length 6 with each element being the data for one of the\n",
      "        views.\n",
      "    \n",
      "    labels : np.ndarray\n",
      "        Array of labels for the digit\n",
      "    \n",
      "    References\n",
      "    ----------\n",
      "    [1] M. van Breukelen, R.P.W. Duin, D.M.J. Tax, and J.E. den Hartog,\n",
      "    Handwritten digit recognition by combined classifiers, Kybernetika,\n",
      "    vol. 34, no. 4, 1998, 381-386\n",
      "\n"
     ]
    }
   ],
   "source": [
    "help(load_UCImultifeature)"
   ]
  },
  {
   "cell_type": "markdown",
   "metadata": {},
   "source": [
    "### Load in UCI multiple feature dataset as an example"
   ]
  },
  {
   "cell_type": "code",
   "execution_count": 3,
   "metadata": {},
   "outputs": [],
   "source": [
    "# Load dataset along with labels\n",
    "n_class = 5\n",
    "data, labels = load_UCImultifeature(select_labeled = list(range(n_class)))\n",
    "\n",
    "# Isolate the first two views of the data\n",
    "m_data = [data[0], data[1]]\n",
    "\n",
    "# Obtain the single view data through column-wise concatenation of both views\n",
    "s_data = np.hstack(m_data)"
   ]
  },
  {
   "cell_type": "markdown",
   "metadata": {},
   "source": [
    "### Comparing performance of single-view kmeans clustering against multi-view kmeans clustering for a single value of k"
   ]
  },
  {
   "cell_type": "code",
   "execution_count": 4,
   "metadata": {},
   "outputs": [],
   "source": [
    "#Function for computing entropy of labels across clusters\n",
    "def compute_entropy(partitions, labels, k, num_classes):\n",
    "    \n",
    "    total_entropy = 0\n",
    "    num_examples = partitions.shape[0]\n",
    "    for part in range(k):\n",
    "        labs = labels[partitions == part]\n",
    "        part_size = labs.shape[0]\n",
    "        if(part_size == 0):\n",
    "            part_size = 1\n",
    "        part_entropy = 0\n",
    "        for cl in range(num_classes):\n",
    "            prop = np.sum(labs == cl) * 1.0 / part_size\n",
    "            ent = 0\n",
    "            if(prop != 0):\n",
    "                ent = - prop * np.log2(prop)\n",
    "            part_entropy += ent\n",
    "        part_entropy = part_entropy * part_size / num_examples\n",
    "        total_entropy += part_entropy\n",
    "    return total_entropy"
   ]
  },
  {
   "cell_type": "code",
   "execution_count": 5,
   "metadata": {},
   "outputs": [
    {
     "name": "stdout",
     "output_type": "stream",
     "text": [
      "Single-view nmi score is 0.7475050541468636\n",
      "Multi-view nmi score is 0.7776423293237318\n",
      "Single-view entropy is 0.5881521402482025\n",
      "Multi-view entropy is 0.5181122185410776\n"
     ]
    }
   ],
   "source": [
    "#Single-view kmeans clustering\n",
    "s_kmeans = KMeans(n_clusters = n_class)\n",
    "s_clusters = s_kmeans.fit_predict(s_data)\n",
    "s_nmi = NMI(s_clusters, labels)\n",
    "print('Single-view nmi score is ' + str(s_nmi))\n",
    "\n",
    "#Multi-view kmeans clustering\n",
    "m_kmeans = MultiviewKMeans(k = n_class)\n",
    "m_clusters = m_kmeans.fit_predict(m_data)\n",
    "m_nmi = NMI(m_clusters, labels)\n",
    "print('Multi-view nmi score is ' + str(m_nmi))\n",
    "\n",
    "print('Single-view entropy is ' \n",
    "      + str(compute_entropy(s_clusters, labels, n_class, n_class)))\n",
    "print('Multi-view entropy is ' \n",
    "      + str(compute_entropy(m_clusters, labels, n_class, n_class)))"
   ]
  },
  {
   "cell_type": "code",
   "execution_count": null,
   "metadata": {},
   "outputs": [],
   "source": []
  },
  {
   "cell_type": "markdown",
   "metadata": {},
   "source": [
    "### Comparing performance of single-view kmeans clustering against multi-view kmeans clustering across a range of k values"
   ]
  },
  {
   "cell_type": "code",
   "execution_count": 6,
   "metadata": {},
   "outputs": [],
   "source": [
    "#Average performance metrics over 100 trials\n",
    "num_trials = 25\n",
    "\n",
    "#A function for computing NMI and entropy over a range\n",
    "#of k values\n",
    "def eval_performance(n_views, data, labels, num_trials):\n",
    "    trials_nmi = list()\n",
    "    trials_ent = list()\n",
    "    for ind in range(num_trials):\n",
    "        nmis = list()\n",
    "        ent = list()\n",
    "        for k in range(1, 11):\n",
    "            kmeans = None\n",
    "            if (n_views == 1):\n",
    "                kmeans = KMeans(k)\n",
    "            else:\n",
    "                kmeans = MultiviewKMeans(k) \n",
    "            clusters = kmeans.fit_predict(data)\n",
    "            nmis.append(NMI(labels, clusters))\n",
    "            ent.append(compute_entropy(clusters, labels, k, n_class))\n",
    "        trials_nmi.append(nmis)\n",
    "        trials_ent.append(ent)\n",
    "    trials_nmi = np.array(trials_nmi)\n",
    "    trials_nmi = np.mean(trials_nmi, axis = 0)\n",
    "    trials_ent = np.array(trials_ent)\n",
    "    trials_ent = np.mean(trials_ent, axis = 0)\n",
    "    return trials_nmi, trials_ent\n",
    "\n",
    "#Compute NMI and entropy of single-view kmeans clusters \n",
    "#across a range of k values\n",
    "s_nmi, s_ent = eval_performance(1, s_data, labels, num_trials)\n",
    "        \n",
    "#Compute NMI and entropy of multi-view kmeans clusters \n",
    "#across a range of k values \n",
    "m_nmi, m_ent = eval_performance(2, m_data, labels, num_trials)\n"
   ]
  },
  {
   "cell_type": "code",
   "execution_count": 7,
   "metadata": {},
   "outputs": [
    {
     "data": {
      "image/png": "[encoded data removed]",
      "text/plain": [
       "<Figure size 432x288 with 1 Axes>"
      ]
     },
     "metadata": {},
     "output_type": "display_data"
    }
   ],
   "source": [
    "import matplotlib.pyplot as plt\n",
    "x_values = list(range(1, 11))\n",
    "plt.plot(x_values, s_nmi, x_values, m_nmi)\n",
    "plt.axvline(x=5, c= 'g')\n",
    "plt.xlabel('k')\n",
    "plt.ylabel('Normalized Mutual Information')\n",
    "plt.legend(['1 View', '2 Views'])\n",
    "plt.title('Kmeans Performance')\n",
    "plt.show()"
   ]
  },
  {
   "cell_type": "code",
   "execution_count": 8,
   "metadata": {},
   "outputs": [
    {
     "data": {
      "image/png": "[encoded data removed]",
      "text/plain": [
       "<Figure size 432x288 with 1 Axes>"
      ]
     },
     "metadata": {},
     "output_type": "display_data"
    }
   ],
   "source": [
    "import matplotlib.pyplot as plt\n",
    "x_values = list(range(1, 11))\n",
    "plt.plot(x_values, s_ent, x_values, m_ent)\n",
    "plt.axvline(x=5, c= 'g')\n",
    "plt.xlabel('k')\n",
    "plt.ylabel('Cluster Entropy')\n",
    "plt.legend(['1 View', '2 Views'])\n",
    "plt.title('Kmeans Performance')\n",
    "plt.show()"
   ]
  },
  {
   "cell_type": "code",
   "execution_count": null,
   "metadata": {},
   "outputs": [],
   "source": []
  },
  {
   "cell_type": "code",
   "execution_count": null,
   "metadata": {},
   "outputs": [],
   "source": []
  },
  {
   "cell_type": "code",
   "execution_count": null,
   "metadata": {},
   "outputs": [],
   "source": []
  }
 ],
 "metadata": {
  "kernelspec": {
   "display_name": "Python 3",
   "language": "python",
   "name": "python3"
  },
  "language_info": {
   "codemirror_mode": {
    "name": "ipython",
    "version": 3
   },
   "file_extension": ".py",
   "mimetype": "text/x-python",
   "name": "python",
   "nbconvert_exporter": "python",
   "pygments_lexer": "ipython3",
   "version": "3.6.5"
  }
 },
 "nbformat": 4,
 "nbformat_minor": 2
}
