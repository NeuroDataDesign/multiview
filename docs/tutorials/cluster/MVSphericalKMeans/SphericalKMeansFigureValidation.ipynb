{
 "cells": [
  {
   "cell_type": "markdown",
   "metadata": {},
   "source": [
    "# Validating Multi-View Spherical KMeans by Replicating Paper Results\n",
    "\n",
    "Here we will validate the implementation of multi-view spherical kmeans by replicating the right side of figure 3 from the Multi-View Clustering paper by Bickel and Scheffer [#2Clu]. "
   ]
  },
  {
   "cell_type": "code",
   "execution_count": 2,
   "metadata": {},
   "outputs": [],
   "source": [
    "import sklearn\n",
    "from sklearn.datasets import fetch_20newsgroups\n",
    "from sklearn.feature_extraction.text import TfidfVectorizer\n",
    "import numpy as np\n",
    "import scipy as scp\n",
    "from scipy import sparse\n",
    "import mvlearn\n",
    "from mvlearn.cluster.mv_spherical_kmeans import MultiviewSphericalKMeans\n",
    "from joblib import Parallel, delayed\n",
    "import matplotlib.pyplot as plt\n",
    "import warnings\n",
    "warnings.simplefilter('ignore') # Ignore warnings"
   ]
  },
  {
   "cell_type": "markdown",
   "metadata": {},
   "source": [
    "### A function to recreate the artificial dataset from the paper\n",
    "\n",
    "The experiment in the paper used the 20 Newsgroup dataset, which consists of around 18000 newsgroups posts on 20 topics. This dataset can be obtained from scikit-learn. To create the artificial dataset used in the experiment, 10 of the 20 classes from the 20 newsgroups dataset were selected and grouped into 2 groups of 5 classes, and then encoded as tfidf vectors. These now represented the 5 multi-view classes, each with 2 views (one from each group). 200 examples were randomly sampled from each of the 20 newsgroups, producing 1000 concatenated examples uniformly distributed over the 5 classes."
   ]
  },
  {
   "cell_type": "code",
   "execution_count": null,
   "metadata": {},
   "outputs": [
    {
     "name": "stderr",
     "output_type": "stream",
     "text": [
      "Downloading 20news dataset. This may take a few minutes.\n",
      "Downloading dataset from https://ndownloader.figshare.com/files/5975967 (14 MB)\n"
     ]
    }
   ],
   "source": [
    "NUM_SAMPLES = 200\n",
    "\n",
    "#Load in the vectorized news group data from scikit-learn package\n",
    "news = fetch_20newsgroups(subset='all')\n",
    "all_data = np.array(news.data)\n",
    "all_targets = np.array(news.target)\n",
    "class_names = news.target_names\n",
    "\n",
    "#A function to get the 20 newsgroup data\n",
    "def get_data():    \n",
    "    \n",
    "    #Set class pairings as described in the multiview clustering paper\n",
    "    view1_classes = ['comp.graphics','rec.motorcycles', 'sci.space', 'rec.sport.hockey', 'comp.sys.ibm.pc.hardware']\n",
    "    view2_classes = ['rec.autos', 'sci.med','misc.forsale', 'soc.religion.christian','comp.os.ms-windows.misc']\n",
    "    \n",
    "    #Create lists to hold data and labels for each of the 5 classes across 2 different views\n",
    "    labels =  [num for num in range(len(view1_classes)) for _ in range(NUM_SAMPLES)]\n",
    "    labels = np.array(labels)\n",
    "    view1_data = list()\n",
    "    view2_data = list()\n",
    "    \n",
    "    #Randomly sample 200 items from each of the selected classes in view1\n",
    "    for ind in range(len(view1_classes)):\n",
    "        class_num = class_names.index(view1_classes[ind])\n",
    "        class_data = all_data[(all_targets == class_num)]\n",
    "        indices = np.random.choice(class_data.shape[0], NUM_SAMPLES)\n",
    "        view1_data.append(class_data[indices])\n",
    "    view1_data = np.concatenate(view1_data)\n",
    "    \n",
    "    #Randomly sample 200 items from each of the selected classes in view2\n",
    "    for ind in range(len(view2_classes)):\n",
    "        class_num = class_names.index(view2_classes[ind])\n",
    "        class_data = all_data[(all_targets == class_num)]\n",
    "        indices = np.random.choice(class_data.shape[0], NUM_SAMPLES)\n",
    "        view2_data.append(class_data[indices])  \n",
    "    view2_data = np.concatenate(view2_data)\n",
    "    \n",
    "    #Vectorize the data\n",
    "    vectorizer = TfidfVectorizer()\n",
    "    view1_data = vectorizer.fit_transform(view1_data)\n",
    "    view2_data = vectorizer.fit_transform(view2_data)\n",
    "\n",
    "    #Shuffle and normalize vectors\n",
    "    shuffled_inds = np.random.permutation(NUM_SAMPLES * len(view1_classes))\n",
    "    view1_data = sparse.vstack(view1_data)\n",
    "    view2_data = sparse.vstack(view2_data)\n",
    "    view1_data = np.array(view1_data[shuffled_inds].todense())\n",
    "    view2_data = np.array(view2_data[shuffled_inds].todense())\n",
    "    magnitudes1 = np.linalg.norm(view1_data, axis=1)\n",
    "    magnitudes2 = np.linalg.norm(view2_data, axis=1)\n",
    "    magnitudes1[magnitudes1 == 0] = 1\n",
    "    magnitudes2[magnitudes2 == 0] = 1\n",
    "    magnitudes1 = magnitudes1.reshape((-1,1))\n",
    "    magnitudes2 = magnitudes2.reshape((-1,1))\n",
    "    view1_data /= magnitudes1\n",
    "    view2_data /= magnitudes2\n",
    "    labels = labels[shuffled_inds]\n",
    "\n",
    "    return view1_data, view2_data, labels"
   ]
  },
  {
   "cell_type": "markdown",
   "metadata": {},
   "source": [
    "###  Function to compute cluster entropy\n",
    "\n",
    "The function below is used to calculate the total clustering entropy using the formula described in the paper."
   ]
  },
  {
   "cell_type": "code",
   "execution_count": 3,
   "metadata": {},
   "outputs": [],
   "source": [
    "def compute_entropy(partitions, labels, k, num_classes):\n",
    "    \n",
    "    total_entropy = 0\n",
    "    num_examples = partitions.shape[0]\n",
    "    for part in range(k):\n",
    "        labs = labels[partitions == part]\n",
    "        part_size = labs.shape[0]\n",
    "        part_entropy = 0\n",
    "        for cl in range(num_classes):\n",
    "            prop = np.sum(labs == cl) * 1.0 / part_size\n",
    "            ent = 0\n",
    "            if(prop != 0):\n",
    "                ent = - prop * np.log2(prop)\n",
    "            part_entropy += ent\n",
    "        part_entropy = part_entropy * part_size / num_examples\n",
    "        total_entropy += part_entropy\n",
    "    return total_entropy"
   ]
  },
  {
   "cell_type": "markdown",
   "metadata": {},
   "source": [
    "### Functions to Initialize Centroids and Run Experiment\n",
    "\n",
    "The randSpherical function initializes the initial cluster centroids by taking a uniform random sampling of points on the surface of a unit hypersphere. The getEntropies function runs Multi-View Spherical Kmeans Clustering on the data with n_clusters from 1 to 10 once each. This function essentially runs one trial of the experiment."
   ]
  },
  {
   "cell_type": "code",
   "execution_count": 4,
   "metadata": {},
   "outputs": [],
   "source": [
    "def randSpherical(n_clusters, n_feat1, n_feat2):\n",
    "    c_centers1 = np.random.normal(0, 1, (n_clusters, n_feat1))\n",
    "    c_centers1 /= np.linalg.norm(c_centers1, axis=1).reshape((-1, 1))\n",
    "    c_centers2 = np.random.normal(0, 1, (n_clusters, n_feat2))\n",
    "    c_centers2 /= np.linalg.norm(c_centers2, axis=1).reshape((-1, 1))\n",
    "    return [c_centers1, c_centers2]"
   ]
  },
  {
   "cell_type": "code",
   "execution_count": 7,
   "metadata": {},
   "outputs": [],
   "source": [
    "def getEntropies():\n",
    "    \n",
    "    v1_data, v2_data, labels = get_data()\n",
    "    \n",
    "    entropies = list()\n",
    "    for num in range(1,11):\n",
    "        \n",
    "        centers = randSpherical(num, v1_data.shape[1], v2_data.shape[1])\n",
    "        kmeans = MultiviewSphericalKMeans(n_clusters=num, init=centers, n_init=1)\n",
    "        pred = kmeans.fit_predict([v1_data, v2_data])\n",
    "        ent = compute_entropy(pred, labels, num, 5)\n",
    "        entropies.append(ent)\n",
    "    print('done')\n",
    "    return entropies"
   ]
  },
  {
   "cell_type": "markdown",
   "metadata": {},
   "source": [
    "### Running multiple trials of the experiment\n",
    "\n",
    "It was difficult to exactly reproduce the results from the Multi-View Clustering Paper because the experimentors randomly sampled a subset of the 20 newsgroup dataset samples to create the artificial dataset, and this random subset was not reported. Therefore, in an attempt to at least replicate the overall shape of the distribution of cluster entropy over the number of clusters, we resample the dataset and recreate the artificial dataset each trial. Therefore, each trial consists of resampling and recreating the artificial dataset, and then running Multi-view Spherical KMeans clustering on that dataset for n_clusters 1 to 10 once each. We performed 80 such trials and the results of this are shown below."
   ]
  },
  {
   "cell_type": "code",
   "execution_count": 8,
   "metadata": {},
   "outputs": [],
   "source": [
    "#Do spherical kmeans and get entropy values for each k for multiple trials\n",
    "n_workers = 10\n",
    "n_trials = 80\n",
    "mult_entropies1 = Parallel(n_jobs=n_workers)(\n",
    "    delayed(getEntropies)() for i in range(n_trials))  "
   ]
  },
  {
   "cell_type": "markdown",
   "metadata": {},
   "source": [
    "### Experiment Results\n",
    "\n",
    "We see the results of this experiment below. Here, we have more or less reproduced the shape of the distribution as seen in figure 3 from the Multi-view Clustering Paper."
   ]
  },
  {
   "cell_type": "code",
   "execution_count": 9,
   "metadata": {},
   "outputs": [
    {
     "data": {
      "image/png": "[encoded data removed]",
      "text/plain": [
       "<Figure size 432x288 with 1 Axes>"
      ]
     },
     "metadata": {
      "needs_background": "light"
     },
     "output_type": "display_data"
    }
   ],
   "source": [
    "mult_entropies1 = np.array(mult_entropies1)\n",
    "ave_m_entropies = np.mean(mult_entropies1, axis=0)\n",
    "std_m_entropies = np.std(mult_entropies1, axis=0)\n",
    "x_values = list(range(1, 11))\n",
    "plt.errorbar(x_values, ave_m_entropies, std_m_entropies, capsize=5, color = '#F46C12')\n",
    "plt.xlabel('k')\n",
    "plt.ylabel('Entropy')\n",
    "plt.legend(['2 Views'])\n",
    "plt.rc('axes', labelsize=12)\n",
    "plt.show()"
   ]
  }
 ],
 "metadata": {
  "kernelspec": {
   "display_name": "Python [conda env:mvdev] *",
   "language": "python",
   "name": "conda-env-mvdev-py"
  },
  "language_info": {
   "codemirror_mode": {
    "name": "ipython",
    "version": 3
   },
   "file_extension": ".py",
   "mimetype": "text/x-python",
   "name": "python",
   "nbconvert_exporter": "python",
   "pygments_lexer": "ipython3",
   "version": "3.7.3"
  }
 },
 "nbformat": 4,
 "nbformat_minor": 4
}
