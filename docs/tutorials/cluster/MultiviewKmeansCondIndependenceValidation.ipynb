{
 "cells": [
  {
   "cell_type": "code",
   "execution_count": 1,
   "metadata": {},
   "outputs": [],
   "source": [
    "import numpy as np\n",
    "from numpy.random import multivariate_normal\n",
    "import scipy as scp\n",
    "from multiview.cluster.mv_k_means import MultiviewKMeans\n",
    "from sklearn.metrics import normalized_mutual_info_score as nmi_score\n",
    "from sklearn.cluster import KMeans\n",
    "from sklearn.datasets import fetch_covtype\n",
    "import matplotlib.pyplot as plt"
   ]
  },
  {
   "cell_type": "markdown",
   "metadata": {},
   "source": [
    "##### Applying Multi-View Kmeans to an artificial dataset where the conditional independence assumption between views holds"
   ]
  },
  {
   "cell_type": "code",
   "execution_count": 2,
   "metadata": {},
   "outputs": [],
   "source": [
    "# Create artificial dataset where conditional independence assumption \n",
    "# between views given true labels is enforced. We will construct this dataset\n",
    "# by taking the forest covertypes dataset. From 6 different classes, we will \n",
    "# create 3 artificial class with 2 views each.\n",
    "\n",
    "def get_data(num_samples=500):\n",
    "\n",
    "    #Load in the vectorized news group data from scikit-learn package\n",
    "    cov = fetch_covtype()\n",
    "    all_data = np.array(cov.data)\n",
    "    all_targets = np.array(cov.target)\n",
    "    \n",
    "    #Set class pairings as described in the multiview clustering paper\n",
    "    view1_classes = [1, 2, 3]\n",
    "    view2_classes = [4, 5, 6]\n",
    "    \n",
    "    #Create lists to hold data and labels for each of the classes across 2 different views\n",
    "    labels =  [num for num in range(len(view1_classes)) for _ in range(num_samples)]\n",
    "    labels = np.array(labels)\n",
    "    view1_data = list()\n",
    "    view2_data = list()\n",
    "    \n",
    "    #Randomly sample items from each of the selected classes in view1\n",
    "    for class_num in view1_classes:\n",
    "        class_data = all_data[(all_targets == class_num)]\n",
    "        indices = np.random.choice(class_data.shape[0], num_samples)\n",
    "        view1_data.append(class_data[indices])\n",
    "    view1_data = np.concatenate(view1_data)\n",
    "   \n",
    "        \n",
    "    #Randomly sample items from each of the selected classes in view2\n",
    "    for class_num in view2_classes:\n",
    "        class_data = all_data[(all_targets == class_num)]\n",
    "        indices = np.random.choice(class_data.shape[0], num_samples)\n",
    "        view2_data.append(class_data[indices])  \n",
    "    view2_data = np.concatenate(view2_data)\n",
    "\n",
    "    #Shuffle and normalize vectors\n",
    "    shuffled_inds = np.random.permutation(num_samples * len(view1_classes))\n",
    "    view1_data = np.vstack(view1_data)\n",
    "    view2_data = np.vstack(view2_data)\n",
    "    view1_data = view1_data[shuffled_inds]\n",
    "    view2_data = view2_data[shuffled_inds]\n",
    "    magnitudes1 = np.linalg.norm(view1_data, axis=0)\n",
    "    magnitudes2 = np.linalg.norm(view2_data, axis=0)\n",
    "    magnitudes1[magnitudes1 == 0] = 1\n",
    "    magnitudes2[magnitudes2 == 0] = 1\n",
    "    magnitudes1 = magnitudes1.reshape((1, -1))\n",
    "    magnitudes2 = magnitudes2.reshape((1, -1))\n",
    "    view1_data /= magnitudes1\n",
    "    view2_data /= magnitudes2\n",
    "    labels = labels[shuffled_inds]\n",
    "    return view1_data, view2_data, labels\n"
   ]
  },
  {
   "cell_type": "code",
   "execution_count": 3,
   "metadata": {},
   "outputs": [],
   "source": [
    "v1_data, v2_data, labels = get_data()"
   ]
  },
  {
   "cell_type": "markdown",
   "metadata": {},
   "source": [
    "##### Creating functions to compute entropy of clusters with respect to the true labels"
   ]
  },
  {
   "cell_type": "code",
   "execution_count": 4,
   "metadata": {},
   "outputs": [],
   "source": [
    "# Creating the entropy function\n",
    "def compute_entropy(partitions, labels, k, num_classes):\n",
    "    \n",
    "    total_entropy = 0\n",
    "    num_examples = partitions.shape[0]\n",
    "    for part in range(k):\n",
    "        labs = labels[partitions == part]\n",
    "        part_size = labs.shape[0]\n",
    "        if(part_size == 0):\n",
    "            part_size = 1\n",
    "        part_entropy = 0\n",
    "        for cl in range(num_classes):\n",
    "            prop = np.sum(labs == cl) * 1.0 / part_size\n",
    "            ent = 0\n",
    "            if(prop != 0):\n",
    "                ent = - prop * np.log2(prop)\n",
    "            part_entropy += ent\n",
    "        part_entropy = part_entropy * part_size / num_examples\n",
    "        total_entropy += part_entropy\n",
    "    return total_entropy\n",
    "\n",
    "# Computing entropy of clustering results for multi-view kmeans\n",
    "def getEntropies(v1_data, v2_data, labels):\n",
    "    entropies = list()\n",
    "    for num in range(1, 7):\n",
    "        kmeans = MultiviewKMeans(k = num)\n",
    "        clusters = kmeans.fit_predict([v1_data, v2_data], num)\n",
    "        ent = compute_entropy(clusters, labels, num, 3)\n",
    "        entropies.append(ent)\n",
    "    return entropies\n",
    "\n",
    "# Creating single view data by concatenating views, then running single-view kmeans\n",
    "def getSingleEntropies(v1_data, v2_data, labels):\n",
    "    \n",
    "    v_data = np.concatenate([v1_data, v2_data], axis = 1)\n",
    "    entropies = list()\n",
    "    \n",
    "    for num in range(1, 7):\n",
    "        kmeans = KMeans(n_clusters = num)\n",
    "        clusters = kmeans.fit_predict(v_data)\n",
    "        ent = compute_entropy(clusters, labels, num, 3)\n",
    "        entropies.append(ent)\n",
    "        \n",
    "    return entropies"
   ]
  },
  {
   "cell_type": "markdown",
   "metadata": {},
   "source": [
    "##### Computing average entropy of cluster results for both single-view and multi-view kmeans over 100 trials each"
   ]
  },
  {
   "cell_type": "code",
   "execution_count": 5,
   "metadata": {},
   "outputs": [],
   "source": [
    "#Do multiview kmeans and get entropy values for each k over 100 trials\n",
    "num_trials = 100\n",
    "mult_entropies = list()\n",
    "for ind in range(num_trials):\n",
    "    entropies = getEntropies(v1_data, v2_data, labels)\n",
    "    mult_entropies.append(entropies)\n",
    "mult_entropies = np.array(mult_entropies)\n",
    "mult_entropies = np.mean(mult_entropies, axis=0)\n",
    "\n",
    "\n",
    "#Do single view kmeans and get entropy values for each k over 100 trials\n",
    "num_trials = 100\n",
    "sing_entropies = list()\n",
    "for ind in range(num_trials):\n",
    "    entropies = getSingleEntropies(v1_data, v2_data, labels)\n",
    "    sing_entropies.append(entropies)\n",
    "sing_entropies = np.array(sing_entropies)\n",
    "sing_entropies = np.mean(sing_entropies, axis=0)"
   ]
  },
  {
   "cell_type": "markdown",
   "metadata": {},
   "source": [
    "##### Comparing performance of single-view and multi-view clustering with respect to cluster entropy on dataset with conditional independence"
   ]
  },
  {
   "cell_type": "code",
   "execution_count": 6,
   "metadata": {},
   "outputs": [
    {
     "data": {
      "image/png": "[encoded data removed]",
      "text/plain": [
       "<Figure size 432x288 with 1 Axes>"
      ]
     },
     "metadata": {},
     "output_type": "display_data"
    }
   ],
   "source": [
    "# Plotting the results. If the conditional independence assertion holds\n",
    "# between views, then the multiview clustering should have better performance\n",
    "# (lower cluster entropy) than single view kmeans clustering across the \n",
    "# range of k values around k = 3, and especially at k = 3, which is the true number of \n",
    "# underlying classes. Multi-view kmeans should have the lowest entropy \n",
    "# at this value of k.\n",
    "\n",
    "import matplotlib.pyplot as plt\n",
    "x_values = list(range(1, 7))\n",
    "plt.plot(x_values, sing_entropies, x_values, mult_entropies)\n",
    "plt.xlabel('k')\n",
    "plt.ylabel('Entropy')\n",
    "plt.legend(['1 View', '2 Views'])\n",
    "plt.title('Kmeans Performance')\n",
    "plt.show()"
   ]
  },
  {
   "cell_type": "markdown",
   "metadata": {},
   "source": [
    "##### Applying Multi-View Kmeans to an artificial dataset where the conditional independence assumption between views does not hold"
   ]
  },
  {
   "cell_type": "code",
   "execution_count": 11,
   "metadata": {},
   "outputs": [],
   "source": [
    "# Create artificial dataset where conditional independence assumption \n",
    "# between views given true labels is enforced. We will construct this dataset\n",
    "# by taking the forest covertypes dataset. From 6 different classes, we will \n",
    "# create 3 artificial class with 2 views each.\n",
    "\n",
    "def get_data(num_samples=500):\n",
    "    \n",
    "    #Load in the vectorized news group data from scikit-learn package\n",
    "    cov = fetch_covtype()\n",
    "    all_data = np.array(cov.data)\n",
    "    all_targets = np.array(cov.target)\n",
    "    \n",
    "    #Set class pairings as described in the multiview clustering paper\n",
    "    view1_classes = [1, 2, 3]\n",
    "    view2_classes = [4, 5, 6]\n",
    "    \n",
    "    #Create lists to hold data and labels for each of the classes across 2 different views\n",
    "    labels =  [num for num in range(len(view1_classes)) for _ in range(num_samples)]\n",
    "    labels = np.array(labels)\n",
    "    view1_data = list()\n",
    "    view2_data = list()\n",
    "    \n",
    "    #Randomly sample 500 items from each of the selected classes in view1\n",
    "    for class_num in view1_classes:\n",
    "        class_data = all_data[(all_targets == class_num)]\n",
    "        indices = np.random.choice(class_data.shape[0], num_samples)\n",
    "        view1_data.append(class_data[indices])\n",
    "    view1_data = np.concatenate(view1_data)\n",
    "   \n",
    "        \n",
    "    #Construct view 2 by applying a nonlinear transformation\n",
    "    #to data from view 1 comprised of a linear transformation\n",
    "    #and a logistic nonlinearity\n",
    "    t_mat =  np.random.random((view1_data.shape[1], 50)) \n",
    "    noise = 0.005 - 0.01*np.random.random((view1_data.shape[1], 50))\n",
    "    t_mat *= noise\n",
    "    transformed = view1_data @ t_mat\n",
    "    view2_data = scp.special.expit(transformed)\n",
    "    \n",
    "    #Shuffle and normalize vectors\n",
    "    shuffled_inds = np.random.permutation(num_samples * len(view1_classes))\n",
    "    view1_data = np.vstack(view1_data)\n",
    "    view2_data = np.vstack(view2_data)\n",
    "    view1_data = view1_data[shuffled_inds]\n",
    "    view2_data = view2_data[shuffled_inds]\n",
    "    magnitudes1 = np.linalg.norm(view1_data, axis=0)\n",
    "    magnitudes2 = np.linalg.norm(view2_data, axis=0)\n",
    "    magnitudes1[magnitudes1 == 0] = 1\n",
    "    magnitudes2[magnitudes2 == 0] = 1\n",
    "    magnitudes1 = magnitudes1.reshape((1, -1))\n",
    "    magnitudes2 = magnitudes2.reshape((1, -1))\n",
    "    view1_data /= magnitudes1\n",
    "    view2_data /= magnitudes2\n",
    "    labels = labels[shuffled_inds]\n",
    "    return view1_data, view2_data, labels\n"
   ]
  },
  {
   "cell_type": "code",
   "execution_count": 12,
   "metadata": {},
   "outputs": [],
   "source": [
    "v1_data, v2_data, labels = get_data()"
   ]
  },
  {
   "cell_type": "markdown",
   "metadata": {},
   "source": [
    "##### Computing average entropy of cluster results for both single-view and multi-view kmeans over 100 trials each"
   ]
  },
  {
   "cell_type": "code",
   "execution_count": 13,
   "metadata": {},
   "outputs": [],
   "source": [
    "#Do multiview kmeans and get entropy values for each k over 100 trials\n",
    "num_trials = 100\n",
    "mult_entropies = list()\n",
    "for ind in range(num_trials):\n",
    "    entropies = getEntropies(v1_data, v2_data, labels)\n",
    "    mult_entropies.append(entropies)\n",
    "mult_entropies = np.array(mult_entropies)\n",
    "mult_entropies = np.mean(mult_entropies, axis=0)\n",
    "\n",
    "\n",
    "#Do single view kmeans and get entropy values for each k over 100 trials\n",
    "num_trials = 100\n",
    "sing_entropies = list()\n",
    "for ind in range(num_trials):\n",
    "    entropies = getSingleEntropies(v1_data, v2_data, labels)\n",
    "    sing_entropies.append(entropies)\n",
    "sing_entropies = np.array(sing_entropies)\n",
    "sing_entropies = np.mean(sing_entropies, axis=0)"
   ]
  },
  {
   "cell_type": "markdown",
   "metadata": {},
   "source": [
    "##### Comparing performance of single-view and multi-view clustering with respect to cluster entropy on dataset with conditional independence"
   ]
  },
  {
   "cell_type": "code",
   "execution_count": 14,
   "metadata": {},
   "outputs": [
    {
     "data": {
      "image/png": "[encoded data removed]",
      "text/plain": [
       "<Figure size 432x288 with 1 Axes>"
      ]
     },
     "metadata": {},
     "output_type": "display_data"
    }
   ],
   "source": [
    "# Plotting the results. If the conditional independence assertion does not hold between views, \n",
    "# then the multiview clustering should have about the same performance\n",
    "# (the same cluster entropy) as single view kmeans clustering across the \n",
    "# range of k values.\n",
    "\n",
    "import matplotlib.pyplot as plt\n",
    "x_values = list(range(1, 7))\n",
    "plt.plot(x_values, sing_entropies, x_values, mult_entropies)\n",
    "plt.xlabel('k')\n",
    "plt.ylabel('Entropy')\n",
    "plt.legend(['1 View', '2 Views'])\n",
    "plt.title('Kmeans Performance')\n",
    "plt.show()"
   ]
  },
  {
   "cell_type": "code",
   "execution_count": null,
   "metadata": {},
   "outputs": [],
   "source": []
  }
 ],
 "metadata": {
  "kernelspec": {
   "display_name": "Python 3",
   "language": "python",
   "name": "python3"
  },
  "language_info": {
   "codemirror_mode": {
    "name": "ipython",
    "version": 3
   },
   "file_extension": ".py",
   "mimetype": "text/x-python",
   "name": "python",
   "nbconvert_exporter": "python",
   "pygments_lexer": "ipython3",
   "version": "3.6.5"
  }
 },
 "nbformat": 4,
 "nbformat_minor": 2
}
