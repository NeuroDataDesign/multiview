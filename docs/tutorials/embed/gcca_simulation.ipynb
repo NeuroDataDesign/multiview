{
 "cells": [
  {
   "cell_type": "markdown",
   "metadata": {},
   "source": [
    "# GCCA vs PCA"
   ]
  },
  {
   "cell_type": "code",
   "execution_count": 1,
   "metadata": {},
   "outputs": [],
   "source": [
    "from mvlearn.embed import GCCA\n",
    "import matplotlib.pyplot as plt\n",
    "import numpy as np\n",
    "import scipy\n",
    "%matplotlib inline\n",
    "import seaborn as sns\n",
    "from scipy.sparse.linalg import svds"
   ]
  },
  {
   "cell_type": "code",
   "execution_count": 2,
   "metadata": {},
   "outputs": [],
   "source": [
    "def get_train_test(n=100, mu=0, var=1, var2=1, nviews=3,m=1000):\n",
    "    # Creates train and test data with a \n",
    "    # - shared signal feature ~ N(mu, var1)\n",
    "    # - an independent noise feature ~ N(mu, var2)\n",
    "    # - independent noise feautures ~ N(0, 1)\n",
    "    np.random.seed(0)\n",
    "    \n",
    "    X_TRAIN = np.random.normal(mu,var,(n,1))\n",
    "    X_TEST = np.random.normal(mu,var,(n,1))\n",
    "\n",
    "    Xs_train = []\n",
    "    Xs_test = []\n",
    "    for i in range(nviews):\n",
    "        X_train = np.hstack((np.random.normal(0,1,(n,i)), \n",
    "                             X_TRAIN, \n",
    "                             np.random.normal(0,1,(n,m-2-i)),\n",
    "                             np.random.normal(0,var2,(n,1))\n",
    "                            ))\n",
    "        X_test = np.hstack((np.random.normal(0,1,(n,i)), \n",
    "                            X_TEST, \n",
    "                            np.random.normal(0,1,(n,m-2-i)),\n",
    "                            np.random.normal(0,var2,(n,1))\n",
    "                           ))\n",
    "        \n",
    "        Xs_train.append(X_train)\n",
    "        Xs_test.append(X_test)\n",
    "    \n",
    "    return(Xs_train,Xs_test)"
   ]
  },
  {
   "cell_type": "markdown",
   "metadata": {},
   "source": [
    "## Positive Test\n",
    "### Setting:\n",
    "1 high variance shared signal feature, 1 high variance noise feature"
   ]
  },
  {
   "cell_type": "code",
   "execution_count": 3,
   "metadata": {},
   "outputs": [],
   "source": [
    "nviews = 3\n",
    "Xs_train, Xs_test = get_train_test(var=10,var2=10,nviews=nviews,m=1000)"
   ]
  },
  {
   "cell_type": "code",
   "execution_count": 5,
   "metadata": {},
   "outputs": [],
   "source": [
    "gcca = GCCA(n_components=2)\n",
    "gcca.fit(Xs_train)\n",
    "Xs_hat = gcca.transform(Xs_test)"
   ]
  },
  {
   "cell_type": "markdown",
   "metadata": {},
   "source": [
    "### Results: \n",
    "- GCCA results show high correlation on testing data"
   ]
  },
  {
   "cell_type": "code",
   "execution_count": 6,
   "metadata": {},
   "outputs": [
    {
     "data": {
      "text/plain": [
       "array([[1.        , 0.99698235, 0.99687182],\n",
       "       [0.99698235, 1.        , 0.99689792],\n",
       "       [0.99687182, 0.99689792, 1.        ]])"
      ]
     },
     "execution_count": 6,
     "metadata": {},
     "output_type": "execute_result"
    }
   ],
   "source": [
    "np.corrcoef(np.array(Xs_hat)[:,:,0])"
   ]
  },
  {
   "cell_type": "code",
   "execution_count": 7,
   "metadata": {},
   "outputs": [],
   "source": [
    "Xs_hat = []\n",
    "for i in range(len(Xs_train)):\n",
    "    _,_,vt = svds(Xs_train[i],k=1)\n",
    "    Xs_hat.append(Xs_test[i] @ vt.T)"
   ]
  },
  {
   "cell_type": "markdown",
   "metadata": {},
   "source": [
    "- PCA selects shared dimension but also high noise dimension and so weaker correlation on testing data"
   ]
  },
  {
   "cell_type": "code",
   "execution_count": 8,
   "metadata": {},
   "outputs": [
    {
     "data": {
      "text/plain": [
       "array([[ 1.        , -0.54014795,  0.51173297],\n",
       "       [-0.54014795,  1.        , -0.98138902],\n",
       "       [ 0.51173297, -0.98138902,  1.        ]])"
      ]
     },
     "execution_count": 8,
     "metadata": {},
     "output_type": "execute_result"
    }
   ],
   "source": [
    "np.corrcoef(np.array(Xs_hat)[:,:,0])"
   ]
  },
  {
   "cell_type": "markdown",
   "metadata": {},
   "source": [
    "## Negative Test\n",
    "### Setting:\n",
    "1 low variance shared feature"
   ]
  },
  {
   "cell_type": "code",
   "execution_count": 9,
   "metadata": {},
   "outputs": [],
   "source": [
    "nviews = 3\n",
    "Xs_train, Xs_test = get_train_test(var=1,var2=1,nviews=nviews,m=1000)"
   ]
  },
  {
   "cell_type": "code",
   "execution_count": 10,
   "metadata": {},
   "outputs": [],
   "source": [
    "gcca = GCCA(n_components = 2)\n",
    "gcca.fit(Xs_train)\n",
    "Xs_hat = gcca.transform(Xs_test)"
   ]
  },
  {
   "cell_type": "markdown",
   "metadata": {},
   "source": [
    "### Results: \n",
    "- GCCA fails to select shared feature and so shows low correlation on testing data"
   ]
  },
  {
   "cell_type": "code",
   "execution_count": 11,
   "metadata": {},
   "outputs": [
    {
     "data": {
      "text/plain": [
       "array([[ 1.        ,  0.31254995, -0.02208907],\n",
       "       [ 0.31254995,  1.        ,  0.13722633],\n",
       "       [-0.02208907,  0.13722633,  1.        ]])"
      ]
     },
     "execution_count": 11,
     "metadata": {},
     "output_type": "execute_result"
    }
   ],
   "source": [
    "np.corrcoef(np.array(Xs_hat)[:,:,0])"
   ]
  },
  {
   "cell_type": "code",
   "execution_count": 12,
   "metadata": {},
   "outputs": [],
   "source": [
    "Xs_hat = []\n",
    "for i in range(len(Xs_train)):\n",
    "    _,_,vt = svds(Xs_train[i],k=1)\n",
    "    Xs_hat.append(Xs_test[i] @ vt.T)"
   ]
  },
  {
   "cell_type": "markdown",
   "metadata": {},
   "source": [
    "- PCA fails to select shared feature and shows low correlation on testing data"
   ]
  },
  {
   "cell_type": "code",
   "execution_count": 13,
   "metadata": {},
   "outputs": [
    {
     "data": {
      "text/plain": [
       "array([[1.        , 0.01016507, 0.0888701 ],\n",
       "       [0.01016507, 1.        , 0.03812276],\n",
       "       [0.0888701 , 0.03812276, 1.        ]])"
      ]
     },
     "execution_count": 13,
     "metadata": {},
     "output_type": "execute_result"
    }
   ],
   "source": [
    "np.corrcoef(np.array(Xs_hat)[:,:,0])"
   ]
  }
 ],
 "metadata": {
  "kernelspec": {
   "display_name": "Python 3",
   "language": "python",
   "name": "python3"
  },
  "language_info": {
   "codemirror_mode": {
    "name": "ipython",
    "version": 3
   },
   "file_extension": ".py",
   "mimetype": "text/x-python",
   "name": "python",
   "nbconvert_exporter": "python",
   "pygments_lexer": "ipython3",
   "version": "3.7.3"
  }
 },
 "nbformat": 4,
 "nbformat_minor": 2
}
