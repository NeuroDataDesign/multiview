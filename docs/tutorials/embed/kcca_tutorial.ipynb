{
 "cells": [
  {
   "cell_type": "markdown",
   "metadata": {},
   "source": [
    "# KCCA Tutorial"
   ]
  },
  {
   "cell_type": "markdown",
   "metadata": {},
   "source": [
    "This algorithm runs KCCA on two views of data. The kernel implementations, parameter 'ktype', are linear, polynomial and gaussian. Linear kernel has one parameter: 'constant'. Polynomial kernel has two parameters: 'constant', 'degree'. Gaussian kernel has one parameter: 'sigma'.\n",
    "\n",
    "When initializing KCCA, you can also initialize the following parameters: the regularization parameter 'reg' and the number of canonical components 'n_components'."
   ]
  },
  {
   "cell_type": "code",
   "execution_count": 13,
   "metadata": {
    "scrolled": true
   },
   "outputs": [],
   "source": [
    "%matplotlib inline\n",
    "import numpy as np\n",
    "import sys\n",
    "sys.path.append(\"../../..\")\n",
    "from mvlearn.embed.kcca import KCCA\n",
    "import matplotlib.pyplot as plt\n",
    "from scipy import stats"
   ]
  },
  {
   "cell_type": "markdown",
   "metadata": {},
   "source": [
    "Function creates Xs, a list of two views of data with a linear relationship, polynomial relationship (2nd degree) and a gaussian relationship."
   ]
  },
  {
   "cell_type": "code",
   "execution_count": 2,
   "metadata": {
    "collapsed": true
   },
   "outputs": [],
   "source": [
    "def make_data(kernel, N):\n",
    "    # # # Define two latent variables (number of samples x 1)\n",
    "    latvar1 = np.random.randn(N,)\n",
    "    latvar2 = np.random.randn(N,)\n",
    "    \n",
    "    # # # Define independent components for each dataset (number of observations x dataset dimensions)\n",
    "    indep1 = np.random.randn(N, 4)\n",
    "    indep2 = np.random.randn(N, 5)\n",
    "    \n",
    "    if kernel == \"linear\":\n",
    "        x = 0.25*indep1 + 0.75*np.vstack((latvar1, latvar2, latvar1, latvar2)).T\n",
    "        y = 0.25*indep2 + 0.75*np.vstack((latvar1, latvar2, latvar1, latvar2, latvar1)).T\n",
    "        \n",
    "        return [x,y]\n",
    "    \n",
    "    elif kernel == \"poly\":\n",
    "        x = 0.25*indep1 + 0.75*np.vstack((latvar1**2, latvar2**2, latvar1**2, latvar2**2)).T\n",
    "        y = 0.25*indep2 + 0.75*np.vstack((latvar1, latvar2, latvar1, latvar2, latvar1)).T\n",
    "        \n",
    "        return [x,y]\n",
    "    \n",
    "    elif kernel == \"gaussian\":\n",
    "        t = np.random.uniform(-np.pi, np.pi, N)\n",
    "        e1 = np.random.normal(0, 0.05, (N,2))\n",
    "        e2 = np.random.normal(0, 0.05, (N,2))\n",
    "        \n",
    "        x = np.zeros((N,2))\n",
    "        x[:,0] = t\n",
    "        x[:,1] = np.sin(3*t)\n",
    "        x += e1\n",
    "        \n",
    "        y = np.zeros((N,2))\n",
    "        y[:,0] = np.exp(t/4)*np.cos(2*t)\n",
    "        y[:,1] = np.exp(t/4)*np.sin(2*t)\n",
    "        y += e2\n",
    "        \n",
    "        return [x,y]"
   ]
  },
  {
   "cell_type": "markdown",
   "metadata": {},
   "source": [
    "# Linear kernel implementation"
   ]
  },
  {
   "cell_type": "code",
   "execution_count": 3,
   "metadata": {
    "collapsed": true
   },
   "outputs": [],
   "source": [
    "Xs = make_data('linear', 100)\n",
    "kcca_l = KCCA(ktype =\"linear\", constant = 100.0, n_components = 4)\n",
    "linearkcca = kcca_l.fit_transform(Xs)\n",
    "weights = linearkcca.weights_\n",
    "components = linearkcca.components_"
   ]
  },
  {
   "cell_type": "code",
   "execution_count": 12,
   "metadata": {
    "scrolled": true
   },
   "outputs": [
    {
     "data": {
      "text/plain": [
       "([], <a list of 0 Text major ticklabel objects>)"
      ]
     },
     "execution_count": 12,
     "metadata": {},
     "output_type": "execute_result"
    },
    {
     "data": {
      "image/png": "[encoded data removed]",
      "text/plain": [
       "<Figure size 432x288 with 1 Axes>"
      ]
     },
     "metadata": {},
     "output_type": "display_data"
    },
    {
     "data": {
      "image/png": "[encoded data removed]",
      "text/plain": [
       "<Figure size 432x288 with 1 Axes>"
      ]
     },
     "metadata": {},
     "output_type": "display_data"
    },
    {
     "data": {
      "image/png": "[encoded data removed]",
      "text/plain": [
       "<Figure size 432x288 with 1 Axes>"
      ]
     },
     "metadata": {},
     "output_type": "display_data"
    },
    {
     "data": {
      "image/png": "[encoded data removed]",
      "text/plain": [
       "<Figure size 432x288 with 1 Axes>"
      ]
     },
     "metadata": {},
     "output_type": "display_data"
    }
   ],
   "source": [
    "fig = plt.figure()\n",
    "plt.scatter(components[0][:,0], components[1][:,0])\n",
    "plt.title('Linear: Component 1')\n",
    "plt.xlabel('View 1')\n",
    "plt.ylabel('View 2')\n",
    "plt.xticks([])\n",
    "plt.yticks([])\n",
    "\n",
    "fig = plt.figure()\n",
    "plt.scatter(components[0][:,1], components[1][:,1])\n",
    "plt.title('Linear: Component 2')\n",
    "plt.xlabel('View 1')\n",
    "plt.ylabel('View 2')\n",
    "plt.xticks([])\n",
    "plt.yticks([])\n",
    "\n",
    "fig = plt.figure()\n",
    "plt.scatter(components[0][:,2], components[1][:,2])\n",
    "plt.title('Linear: Component 2')\n",
    "plt.xlabel('View 1')\n",
    "plt.ylabel('View 2')\n",
    "plt.xticks([])\n",
    "plt.yticks([])\n",
    "\n",
    "fig = plt.figure()\n",
    "plt.scatter(components[0][:,3], components[1][:,3])\n",
    "plt.title('Linear: Component 2')\n",
    "plt.xlabel('View 1')\n",
    "plt.ylabel('View 2')\n",
    "plt.xticks([])\n",
    "plt.yticks([])"
   ]
  },
  {
   "cell_type": "code",
   "execution_count": 21,
   "metadata": {},
   "outputs": [
    {
     "name": "stdout",
     "output_type": "stream",
     "text": [
      "Below are the canonical correlation for the four components:\n",
      "0.9999399108636969 0.9999207245607307 0.9999269208183535 0.9999437113902806\n"
     ]
    }
   ],
   "source": [
    "(r1, _) = stats.pearsonr(components[0][:,0], components[1][:,0])\n",
    "(r2, _) = stats.pearsonr(components[0][:,1], components[1][:,1])\n",
    "(r3, _) = stats.pearsonr(components[0][:,2], components[1][:,2])\n",
    "(r4, _) = stats.pearsonr(components[0][:,3], components[1][:,3])\n",
    "\n",
    "print(\"Below are the canonical correlation for the four components:\")\n",
    "print(r1,r2,r3,r4)"
   ]
  },
  {
   "cell_type": "markdown",
   "metadata": {},
   "source": [
    "# Polynomial kernel implementation"
   ]
  },
  {
   "cell_type": "code",
   "execution_count": 7,
   "metadata": {
    "collapsed": true
   },
   "outputs": [],
   "source": [
    "Xsp = make_data(\"poly\", 100)\n",
    "kcca_p = KCCA(ktype =\"poly\", constant = 100.0, degree = 2.0, n_components = 2)\n",
    "polykcca = kcca_p.fit_transform(Xsp)\n",
    "weightsp = polykcca.weights_\n",
    "componentsp = polykcca.components_"
   ]
  },
  {
   "cell_type": "code",
   "execution_count": 8,
   "metadata": {
    "scrolled": true
   },
   "outputs": [
    {
     "data": {
      "text/plain": [
       "([], <a list of 0 Text major ticklabel objects>)"
      ]
     },
     "execution_count": 8,
     "metadata": {},
     "output_type": "execute_result"
    },
    {
     "data": {
      "image/png": "[encoded data removed]",
      "text/plain": [
       "<Figure size 432x288 with 1 Axes>"
      ]
     },
     "metadata": {},
     "output_type": "display_data"
    },
    {
     "data": {
      "image/png": "[encoded data removed]",
      "text/plain": [
       "<Figure size 432x288 with 1 Axes>"
      ]
     },
     "metadata": {},
     "output_type": "display_data"
    }
   ],
   "source": [
    "fig = plt.figure()\n",
    "plt.scatter(componentsp[0][:,0], componentsp[1][:,0])\n",
    "plt.title('Polynomial: Component 1')\n",
    "plt.xlabel('View 1')\n",
    "plt.ylabel('View 2')\n",
    "plt.xticks([])\n",
    "plt.yticks([])\n",
    "\n",
    "fig = plt.figure()\n",
    "plt.scatter(componentsp[0][:,1], componentsp[1][:,1])\n",
    "plt.title('Polynomial: Component 2')\n",
    "plt.xlabel('View 1')\n",
    "plt.ylabel('View 2')\n",
    "plt.xticks([])\n",
    "plt.yticks([])"
   ]
  },
  {
   "cell_type": "code",
   "execution_count": 24,
   "metadata": {},
   "outputs": [
    {
     "name": "stdout",
     "output_type": "stream",
     "text": [
      "Below are the canonical correlation for the two components:\n",
      "0.9999635574523249 0.9999635574523249\n"
     ]
    }
   ],
   "source": [
    "(pr1, _) = stats.pearsonr(componentsp[0][:,0], componentsp[1][:,0])\n",
    "(pr2, _) = stats.pearsonr(componentsp[0][:,1], componentsp[1][:,1])\n",
    "\n",
    "\n",
    "print(\"Below are the canonical correlation for the two components:\")\n",
    "print(pr1,pr2)"
   ]
  },
  {
   "cell_type": "markdown",
   "metadata": {},
   "source": [
    "# Gaussian Kernel Implementation"
   ]
  },
  {
   "cell_type": "code",
   "execution_count": 10,
   "metadata": {
    "collapsed": true
   },
   "outputs": [],
   "source": [
    "Xsg = make_data(\"gaussian\", 100)\n",
    "kcca_g = KCCA(ktype =\"gaussian\", sigma = 3.0, n_components = 2)\n",
    "gausskcca = kcca_g.fit_transform(Xsg)\n",
    "weightsg = gausskcca.weights_\n",
    "componentsg = gausskcca.components_"
   ]
  },
  {
   "cell_type": "code",
   "execution_count": 11,
   "metadata": {},
   "outputs": [
    {
     "data": {
      "text/plain": [
       "([], <a list of 0 Text major ticklabel objects>)"
      ]
     },
     "execution_count": 11,
     "metadata": {},
     "output_type": "execute_result"
    },
    {
     "data": {
      "image/png": "[encoded data removed]",
      "text/plain": [
       "<Figure size 432x288 with 1 Axes>"
      ]
     },
     "metadata": {},
     "output_type": "display_data"
    },
    {
     "data": {
      "image/png": "[encoded data removed]",
      "text/plain": [
       "<Figure size 432x288 with 1 Axes>"
      ]
     },
     "metadata": {},
     "output_type": "display_data"
    }
   ],
   "source": [
    "fig = plt.figure()\n",
    "plt.scatter(componentsg[0][:,0], componentsg[1][:,0])\n",
    "plt.title('Gaussian: Component 1')\n",
    "plt.xlabel('View 1')\n",
    "plt.ylabel('View 2')\n",
    "plt.xticks([])\n",
    "plt.yticks([])\n",
    "\n",
    "fig = plt.figure()\n",
    "plt.scatter(componentsg[0][:,1], componentsg[1][:,1])\n",
    "plt.title('Gaussian: Component 2')\n",
    "plt.xlabel('View 1')\n",
    "plt.ylabel('View 2')\n",
    "plt.xticks([])\n",
    "plt.yticks([])"
   ]
  },
  {
   "cell_type": "code",
   "execution_count": 25,
   "metadata": {},
   "outputs": [
    {
     "name": "stdout",
     "output_type": "stream",
     "text": [
      "Below are the canonical correlation for the two components:\n",
      "0.9998596065421828 0.9995854157635631\n"
     ]
    }
   ],
   "source": [
    "(gr1, _) = stats.pearsonr(componentsg[0][:,0], componentsg[1][:,0])\n",
    "(gr2, _) = stats.pearsonr(componentsg[0][:,1], componentsg[1][:,1])\n",
    "\n",
    "print(\"Below are the canonical correlation for the two components:\")\n",
    "print(gr1,gr2)"
   ]
  },
  {
   "cell_type": "code",
   "execution_count": null,
   "metadata": {
    "collapsed": true
   },
   "outputs": [],
   "source": []
  }
 ],
 "metadata": {
  "kernelspec": {
   "display_name": "Python 3",
   "language": "python",
   "name": "python3"
  },
  "language_info": {
   "codemirror_mode": {
    "name": "ipython",
    "version": 3
   },
   "file_extension": ".py",
   "mimetype": "text/x-python",
   "name": "python",
   "nbconvert_exporter": "python",
   "pygments_lexer": "ipython3",
   "version": "3.6.8"
  }
 },
 "nbformat": 4,
 "nbformat_minor": 2
}
