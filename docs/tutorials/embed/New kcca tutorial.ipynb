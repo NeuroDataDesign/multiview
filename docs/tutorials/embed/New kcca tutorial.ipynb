{
 "cells": [
  {
   "cell_type": "markdown",
   "metadata": {},
   "source": [
    "# kCCA implementation"
   ]
  },
  {
   "cell_type": "code",
   "execution_count": 7,
   "metadata": {
    "collapsed": true
   },
   "outputs": [],
   "source": [
    "import numpy as np\n",
    "from scipy import linalg\n",
    "from numpy import matlib\n",
    "\n",
    "N = 100\n",
    "reg = 0.00001\n",
    "sigma = 1\n",
    "c = 10\n",
    "\n",
    "np.random.seed(29)"
   ]
  },
  {
   "cell_type": "code",
   "execution_count": 8,
   "metadata": {
    "collapsed": true
   },
   "outputs": [],
   "source": [
    "def make_data(kernel):\n",
    "    # # # Define two latent variables (number of samples x 1)\n",
    "    latvar1 = np.random.randn(N,)\n",
    "    latvar2 = np.random.randn(N,)\n",
    "    \n",
    "    # # # Define independent components for each dataset (number of observations x dataset dimensions)\n",
    "    indep1 = np.random.randn(N, 4)\n",
    "    indep2 = np.random.randn(N, 5)\n",
    "    \n",
    "    if kernel == \"linear\":\n",
    "        x = 0.25*indep1 + 0.75*np.vstack((latvar1, latvar2, latvar1, latvar2)).T\n",
    "        y = 0.25*indep2 + 0.75*np.vstack((latvar1, latvar2, latvar1, latvar2, latvar1)).T\n",
    "        \n",
    "        return x,y\n",
    "    \n",
    "    elif kernel == \"poly\":\n",
    "        x = 0.25*indep1 + 0.75*np.vstack((latvar1**2, latvar2**2, latvar1**2, latvar2**2)).T\n",
    "        y = 0.25*indep2 + 0.75*np.vstack((latvar1, latvar2, latvar1, latvar2, latvar1)).T\n",
    "        \n",
    "        return x,y\n",
    "    \n",
    "    elif kernel == \"gaussian\":\n",
    "        t = np.random.uniform(-np.pi, np.pi, N)\n",
    "        e1 = np.random.normal(0, 0.05, (N,2))\n",
    "        e2 = np.random.normal(0, 0.05, (N,2))\n",
    "        \n",
    "        x = np.zeros((N,2))\n",
    "        x[:,0] = t\n",
    "        x[:,1] = np.sin(3*t)\n",
    "        x += e1\n",
    "        \n",
    "        y = np.zeros((N,2))\n",
    "        y[:,0] = np.exp(t/4)*np.cos(2*t)\n",
    "        y[:,1] = np.exp(t/4)*np.sin(2*t)\n",
    "        y += e2\n",
    "        \n",
    "        return x,y\n",
    "        \n",
    "def center_norm(x):\n",
    "    x = x - np.matlib.repmat(np.mean(x, axis=0), N, 1)\n",
    "    return x@np.sqrt(np.diag(np.divide(1,np.diag(np.transpose(x)@x))))\n",
    "\n",
    "def make_kernel(x, kernel, par1, par2):\n",
    "    N0 = np.eye(N)-1/N*np.ones((N,N))\n",
    "    \n",
    "    #linear kernel\n",
    "    if kernel == \"linear\":\n",
    "        return N0@(x@x.T + par1)@N0\n",
    "    \n",
    "    #polynomial kernel\n",
    "    elif kernel == \"poly\":\n",
    "        return N0@(x@x.T + par2)**par1@N0\n",
    "    \n",
    "    #gaussian kernel\n",
    "    elif kernel == \"gaussian\":\n",
    "        norms1 = np.sum(np.square(x),axis=1)[np.newaxis].T\n",
    "        norms2 = np.sum(np.square(x),axis=1)\n",
    "        \n",
    "        mat1 = np.matlib.repmat(norms1,1,N)\n",
    "        mat2 = np.matlib.repmat(norms2,N,1)\n",
    "        \n",
    "        distmat = mat1 + mat2 - 2*x@(x.conj().T)\n",
    "        return N0@np.exp(-distmat/(2*par1**2))@N0\n",
    "\n",
    "def fit(x, y, kernel, par1, par2):\n",
    "    \n",
    "    x = center_norm(x)\n",
    "    y = center_norm(y)\n",
    "    \n",
    "    Kx = make_kernel(x, kernel, par1, par2)\n",
    "    Ky = make_kernel(y, kernel, par1, par2)\n",
    "\n",
    "    I = np.eye(N)\n",
    "    Z = np.zeros((N,N))\n",
    "    dim = min(x.shape[1],y.shape[1])\n",
    "    \n",
    "    # Solving eigenvalue problem\n",
    "    R = 0.5*np.r_[np.c_[Kx, Ky], np.c_[Kx, Ky]]\n",
    "    D = np.r_[np.c_[Kx+reg*I, Z],np.c_[Z, Ky+reg*I]]\n",
    "    \n",
    "    ###### make more efficient. limit betasss to dim\n",
    "    betas = linalg.eig(R,D)[0] #eigenvalues\n",
    "    alphas = linalg.eig(R,D)[1] #right eigenvectors\n",
    "    betass = np.sort(np.real(np.diag(betas)))\n",
    "    betasss = np.sum(betass, axis=1)\n",
    "    ind = np.argsort(np.sum(np.diag(betas), axis=0), axis=0)\n",
    "    \n",
    "    perm_mat = np.zeros((len(ind), len(ind)))\n",
    "    \n",
    "    for idx, i in enumerate(ind):\n",
    "        perm_mat[idx, i] = 1\n",
    "    \n",
    "    alphass = np.real(np.dot(alphas, perm_mat)/np.linalg.norm(alphas))\n",
    "    \n",
    "    \n",
    "    # weights\n",
    "    weight1 = alphass[:N,:dim] #dim can be changed to user input if they want less\n",
    "    weight2 = alphass[N:,:dim]\n",
    "    \n",
    "    return weight1, weight2, betasss\n",
    "\n",
    "def transform(x, y, weight1, weight2, kernel, par1, par2):\n",
    "    x = center_norm(x)\n",
    "    y = center_norm(y)\n",
    "    \n",
    "    #### do we need to make kernel or can we just apply weights to normal data\n",
    "    Kx = make_kernel(x, kernel, par1, par2)\n",
    "    Ky = make_kernel(y, kernel, par1, par2)\n",
    "    \n",
    "    comp1 = []\n",
    "    comp2 = []\n",
    "    \n",
    "    for i in range(weight1.shape[1]):\n",
    "        comp1.append(Kx@weight1[:,i])\n",
    "        comp2.append(Ky@weight2[:,i])\n",
    "        \n",
    "    comp1 = [l*(-10**18) for l in comp1]\n",
    "    comp2 = [l*10**18 for l in comp2]\n",
    "    return comp1, comp2\n",
    "\n",
    "def fit_transform(Kx,Ky):\n",
    "    weight1, weight2, betasss = fit(Kx,Ky)\n",
    "    comp1, comp2 = transform(Kx, Ky, weight1, weight2)\n",
    "    return comp1, comp2"
   ]
  },
  {
   "cell_type": "code",
   "execution_count": 9,
   "metadata": {},
   "outputs": [],
   "source": [
    "# Linear kernel implementation\n",
    "x,y = make_data('linear')\n",
    "\n",
    "weight1, weight2, betasss = fit(x,y, 'linear',5,10)\n",
    "\n",
    "comp1, comp2 = transform(x, y, weight1, weight2, 'linear',5,10)"
   ]
  },
  {
   "cell_type": "code",
   "execution_count": 14,
   "metadata": {},
   "outputs": [
    {
     "name": "stdout",
     "output_type": "stream",
     "text": [
      "0.984324583256028 0.9930434877249144\n"
     ]
    },
    {
     "data": {
      "image/png": "[encoded data removed]",
      "text/plain": [
       "<matplotlib.figure.Figure at 0x1208af6d8>"
      ]
     },
     "metadata": {},
     "output_type": "display_data"
    },
    {
     "data": {
      "image/png": "[encoded data removed]",
      "text/plain": [
       "<matplotlib.figure.Figure at 0x1208ced68>"
      ]
     },
     "metadata": {},
     "output_type": "display_data"
    }
   ],
   "source": [
    "import matplotlib.pyplot as plt\n",
    "%matplotlib inline  \n",
    "\n",
    "fig = plt.figure()\n",
    "plt.scatter(comp1[0], comp2[0])\n",
    "plt.title('Linear: Component 1')\n",
    "plt.xlabel('View 1')\n",
    "plt.ylabel('View 2')\n",
    "plt.xticks([])\n",
    "plt.yticks([])\n",
    "\n",
    "fig = plt.figure()\n",
    "plt.scatter(comp1[1], comp2[1])\n",
    "plt.title('Linear: Component 2')\n",
    "plt.xlabel('View 1')\n",
    "plt.ylabel('View 2')\n",
    "plt.xticks([])\n",
    "plt.yticks([])\n",
    "\n",
    "print(betasss[0],betasss[1])"
   ]
  },
  {
   "cell_type": "code",
   "execution_count": 11,
   "metadata": {
    "collapsed": true
   },
   "outputs": [],
   "source": [
    "# Polynomial kernel implementation\n",
    "x,y = make_data('poly')\n",
    "\n",
    "weight1, weight2, betasss = fit(x,y, 'poly',2,10)\n",
    "\n",
    "comp1, comp2 = transform(x, y, weight1, weight2, 'poly',2,10)"
   ]
  },
  {
   "cell_type": "code",
   "execution_count": 13,
   "metadata": {},
   "outputs": [
    {
     "name": "stdout",
     "output_type": "stream",
     "text": [
      "0.984324583256028 0.9930434877249144\n"
     ]
    },
    {
     "data": {
      "image/png": "[encoded data removed]",
      "text/plain": [
       "<matplotlib.figure.Figure at 0x12095c780>"
      ]
     },
     "metadata": {},
     "output_type": "display_data"
    },
    {
     "data": {
      "image/png": "[encoded data removed]",
      "text/plain": [
       "<matplotlib.figure.Figure at 0x1208b6ba8>"
      ]
     },
     "metadata": {},
     "output_type": "display_data"
    }
   ],
   "source": [
    "import matplotlib.pyplot as plt\n",
    "%matplotlib inline  \n",
    "\n",
    "fig = plt.figure()\n",
    "plt.scatter(comp1[0], comp2[0])\n",
    "plt.title('Poly: Component 1')\n",
    "plt.xlabel('View 1')\n",
    "plt.ylabel('View 2')\n",
    "plt.xticks([])\n",
    "plt.yticks([])\n",
    "\n",
    "fig = plt.figure()\n",
    "plt.scatter(comp1[1], comp2[1])\n",
    "plt.title('Poly: Component 2')\n",
    "plt.xlabel('View 1')\n",
    "plt.ylabel('View 2')\n",
    "plt.xticks([])\n",
    "plt.yticks([])\n",
    "\n",
    "print(betasss[0],betasss[1])"
   ]
  },
  {
   "cell_type": "code",
   "execution_count": 20,
   "metadata": {},
   "outputs": [],
   "source": [
    "# Polynomial kernel implementation\n",
    "x,y = make_data('gaussian')\n",
    "\n",
    "weight1, weight2, betasss = fit(x,y, 'gaussian',1,10)\n",
    "\n",
    "comp1, comp2 = transform(x, y, weight1, weight2, 'gaussian',1,10)"
   ]
  },
  {
   "cell_type": "code",
   "execution_count": 21,
   "metadata": {},
   "outputs": [
    {
     "name": "stdout",
     "output_type": "stream",
     "text": [
      "0.9974882924475025 0.9770556461394594\n"
     ]
    },
    {
     "data": {
      "image/png": "[encoded data removed]",
      "text/plain": [
       "<matplotlib.figure.Figure at 0x1209e6320>"
      ]
     },
     "metadata": {},
     "output_type": "display_data"
    },
    {
     "data": {
      "image/png": "[encoded data removed]",
      "text/plain": [
       "<matplotlib.figure.Figure at 0x120a2dc88>"
      ]
     },
     "metadata": {},
     "output_type": "display_data"
    }
   ],
   "source": [
    "import matplotlib.pyplot as plt\n",
    "%matplotlib inline  \n",
    "\n",
    "fig = plt.figure()\n",
    "plt.scatter(comp1[0], comp2[0])\n",
    "plt.title('Gaussian: Component 1')\n",
    "plt.xlabel('View 1')\n",
    "plt.ylabel('View 2')\n",
    "plt.xticks([])\n",
    "plt.yticks([])\n",
    "\n",
    "fig = plt.figure()\n",
    "plt.scatter(comp1[1], comp2[1])\n",
    "plt.title('Gaussian: Component 2')\n",
    "plt.xlabel('View 1')\n",
    "plt.ylabel('View 2')\n",
    "plt.xticks([])\n",
    "plt.yticks([])\n",
    "\n",
    "print(betasss[0],betasss[1])"
   ]
  },
  {
   "cell_type": "code",
   "execution_count": null,
   "metadata": {
    "collapsed": true
   },
   "outputs": [],
   "source": []
  }
 ],
 "metadata": {
  "kernelspec": {
   "display_name": "Python 3",
   "language": "python",
   "name": "python3"
  },
  "language_info": {
   "codemirror_mode": {
    "name": "ipython",
    "version": 3
   },
   "file_extension": ".py",
   "mimetype": "text/x-python",
   "name": "python",
   "nbconvert_exporter": "python",
   "pygments_lexer": "ipython3",
   "version": "3.6.8"
  }
 },
 "nbformat": 4,
 "nbformat_minor": 2
}
