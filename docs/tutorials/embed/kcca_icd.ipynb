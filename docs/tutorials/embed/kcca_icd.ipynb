{
 "cells": [
  {
   "cell_type": "code",
   "execution_count": 1,
   "metadata": {},
   "outputs": [
    {
     "name": "stderr",
     "output_type": "stream",
     "text": [
      "/Users/theodorelee/anaconda/lib/python3.6/site-packages/sklearn/utils/deprecation.py:144: FutureWarning: The sklearn.mixture.gaussian_mixture module is  deprecated in version 0.22 and will be removed in version 0.24. The corresponding classes / functions should instead be imported from sklearn.mixture. Anything that cannot be imported from sklearn.mixture is now part of the private API.\n",
      "  warnings.warn(message, FutureWarning)\n"
     ]
    }
   ],
   "source": [
    "%matplotlib inline\n",
    "import numpy as np\n",
    "import sys\n",
    "sys.path.append(\"../../..\")\n",
    "from mvlearn.embed.kcca import KCCA\n",
    "from mvlearn.plotting.plot import crossviews_plot\n",
    "import matplotlib.pyplot as plt\n",
    "from scipy import stats\n",
    "import pandas as pd\n",
    "np.random.seed(1)\n",
    "\n",
    "import warnings\n",
    "import matplotlib.cbook\n",
    "warnings.filterwarnings(\"ignore\",category=matplotlib.cbook.mplDeprecation)"
   ]
  },
  {
   "cell_type": "code",
   "execution_count": 2,
   "metadata": {
    "collapsed": true
   },
   "outputs": [],
   "source": [
    "def make_data(kernel, N):\n",
    "    # # # Define two latent variables (number of samples x 1)\n",
    "    latvar1 = np.random.randn(N,)\n",
    "    latvar2 = np.random.randn(N,)\n",
    "    \n",
    "    # # # Define independent components for each dataset (number of observations x dataset dimensions)\n",
    "    indep1 = np.random.randn(N, 4)\n",
    "    indep2 = np.random.randn(N, 5)\n",
    "    \n",
    "    if kernel == \"linear\":\n",
    "        x = 0.25*indep1 + 0.75*np.vstack((latvar1, latvar2, latvar1, latvar2)).T\n",
    "        y = 0.25*indep2 + 0.75*np.vstack((latvar1, latvar2, latvar1, latvar2, latvar1)).T\n",
    "        \n",
    "        return [x,y]\n",
    "    \n",
    "    elif kernel == \"poly\":\n",
    "        x = 0.25*indep1 + 0.75*np.vstack((latvar1**2, latvar2**2, latvar1**2, latvar2**2)).T\n",
    "        y = 0.25*indep2 + 0.75*np.vstack((latvar1, latvar2, latvar1, latvar2, latvar1)).T\n",
    "        \n",
    "        return [x,y]\n",
    "    \n",
    "    elif kernel == \"gaussian\":\n",
    "        t = np.random.uniform(-np.pi, np.pi, N)\n",
    "        e1 = np.random.normal(0, 0.05, (N,2))\n",
    "        e2 = np.random.normal(0, 0.05, (N,2))\n",
    "        \n",
    "        x = np.zeros((N,2))\n",
    "        x[:,0] = t\n",
    "        x[:,1] = np.sin(3*t)\n",
    "        x += e1\n",
    "        \n",
    "        y = np.zeros((N,2))\n",
    "        y[:,0] = np.exp(t/4)*np.cos(2*t)\n",
    "        y[:,1] = np.exp(t/4)*np.sin(2*t)\n",
    "        y += e2\n",
    "        \n",
    "        return [x,y]"
   ]
  },
  {
   "cell_type": "code",
   "execution_count": 3,
   "metadata": {
    "collapsed": true
   },
   "outputs": [],
   "source": [
    "Xsg = make_data(\"gaussian\", 100)\n",
    "#X1 = pd.read_csv(\"x1.csv\", header=None).values\n",
    "#X2 = pd.read_csv(\"x2.csv\", header=None).values\n",
    "#Xsg = [X1, X2]"
   ]
  },
  {
   "cell_type": "code",
   "execution_count": 4,
   "metadata": {},
   "outputs": [],
   "source": [
    "kcca_g_icd = KCCA(ktype =\"gaussian\", sigma = 1.0, n_components = 2, reg = 0.01, decomp = 'icd', mrank = 50)\n",
    "icd = kcca_g_icd.fit_transform(Xsg)"
   ]
  },
  {
   "cell_type": "code",
   "execution_count": 17,
   "metadata": {},
   "outputs": [
    {
     "data": {
      "text/plain": [
       "[array([[-0.75816194, -0.06154581],\n",
       "        [-0.66052815, -0.11159874],\n",
       "        [-0.46863662, -0.081551  ],\n",
       "        [ 0.30585383, -0.11603888],\n",
       "        [ 0.34778671, -0.23285596],\n",
       "        [ 0.34951225, -0.23905668],\n",
       "        [ 0.32983351, -0.24517949],\n",
       "        [-0.6861398 , -0.09840875],\n",
       "        [ 0.34183169, -0.22171905],\n",
       "        [-0.4366746 ,  0.18841352],\n",
       "        [ 0.06409704,  0.27664948],\n",
       "        [ 0.09651471, -0.22311665],\n",
       "        [ 0.01438041,  0.09328483],\n",
       "        [-0.00598196,  0.06685105],\n",
       "        [ 0.16946056,  0.33894207],\n",
       "        [-0.78373779, -0.07911323],\n",
       "        [ 0.05598699,  0.51620915],\n",
       "        [ 0.34275101, -0.25180529],\n",
       "        [-0.00226157, -0.181729  ],\n",
       "        [ 0.14017372,  0.32041078],\n",
       "        [ 0.34357374, -0.24825104],\n",
       "        [-0.74165162, -0.0501456 ],\n",
       "        [ 0.00193715,  0.55055566],\n",
       "        [ 0.05791666,  0.16577406],\n",
       "        [-0.09005213,  0.49183295],\n",
       "        [ 0.06509667,  0.18741646],\n",
       "        [ 0.09931646,  0.25137085],\n",
       "        [-0.79440838, -0.09177314],\n",
       "        [-0.65719871, -0.11556172],\n",
       "        [ 0.21412972, -0.26508807],\n",
       "        [-0.77764503, -0.10439909],\n",
       "        [-0.76321692, -0.06208956],\n",
       "        [ 0.20356417, -0.26137947],\n",
       "        [-0.02511723,  0.01592372],\n",
       "        [ 0.0476122 ,  0.45179382],\n",
       "        [-0.00689468, -0.1789453 ],\n",
       "        [ 0.19175015, -0.21894717],\n",
       "        [-0.54854897, -0.09429071],\n",
       "        [ 0.01965186,  0.55509545],\n",
       "        [ 0.04079262,  0.14159297],\n",
       "        [ 0.33482315, -0.21184816],\n",
       "        [ 0.21190589,  0.18912351],\n",
       "        [ 0.21763462, -0.26540275],\n",
       "        [-0.07305789, -0.095254  ],\n",
       "        [-0.10691492,  0.47300408],\n",
       "        [-0.79341993, -0.10056795],\n",
       "        [ 0.24694   ,  0.08183602],\n",
       "        [-0.66568951,  0.01151916],\n",
       "        [-0.7687834 , -0.10321294],\n",
       "        [-0.75452062, -0.10527094],\n",
       "        [ 0.34780665, -0.24437296],\n",
       "        [ 0.34996091, -0.24021406],\n",
       "        [ 0.3206258 , -0.23293326],\n",
       "        [ 0.0866546 ,  0.22947309],\n",
       "        [ 0.3511146 , -0.24721932],\n",
       "        [ 0.11984803,  0.2911923 ],\n",
       "        [-0.00499726,  0.0818101 ],\n",
       "        [-0.77262289, -0.11218825],\n",
       "        [ 0.07396471, -0.21449015],\n",
       "        [ 0.13612491,  0.31707046],\n",
       "        [ 0.14467552, -0.24034297],\n",
       "        [ 0.15420743, -0.0896211 ],\n",
       "        [ 0.32467218, -0.18755259],\n",
       "        [ 0.02988322,  0.54820594],\n",
       "        [-0.56659362,  0.08604026],\n",
       "        [-0.47507662,  0.15746254],\n",
       "        [-0.75788844, -0.05773845],\n",
       "        [-0.05338145, -0.02576627],\n",
       "        [-0.05132196, -0.14686189],\n",
       "        [ 0.32628257, -0.18562668],\n",
       "        [ 0.18782927,  0.29688658],\n",
       "        [-0.6865004 , -0.11210743],\n",
       "        [ 0.13993533,  0.3197523 ],\n",
       "        [-0.76743989, -0.07332853],\n",
       "        [-0.74112586, -0.05654222],\n",
       "        [-0.79413511, -0.09059948],\n",
       "        [ 0.26843129, -0.00607243],\n",
       "        [-0.74003744, -0.04444011],\n",
       "        [ 0.15093918, -0.11493232],\n",
       "        [ 0.19382895,  0.26696039],\n",
       "        [ 0.02014818,  0.09376219],\n",
       "        [ 0.25313238,  0.02841322],\n",
       "        [-0.03656488, -0.14887172],\n",
       "        [ 0.33974546, -0.22028425],\n",
       "        [ 0.25371027,  0.04437323],\n",
       "        [ 0.20510332,  0.22358688],\n",
       "        [ 0.05914745,  0.33310404],\n",
       "        [ 0.23478082, -0.26659128],\n",
       "        [-0.69694597, -0.01254622],\n",
       "        [ 0.17050367,  0.33211909],\n",
       "        [ 0.17133547, -0.17786929],\n",
       "        [ 0.34732136, -0.25234821],\n",
       "        [ 0.18504077, -0.25508513],\n",
       "        [-0.65719916,  0.01514427],\n",
       "        [-0.59642478, -0.12044712],\n",
       "        [ 0.31740073, -0.24054568],\n",
       "        [ 0.17223182,  0.3292264 ],\n",
       "        [ 0.19409969,  0.29621763],\n",
       "        [ 0.3502015 , -0.24828226],\n",
       "        [ 0.32578917, -0.23818079]]), array([[-0.43522713, -0.15686133],\n",
       "        [-0.35332751, -0.21561374],\n",
       "        [-0.18841633, -0.17951019],\n",
       "        [ 0.49289345, -0.19779884],\n",
       "        [ 0.55043867, -0.37995624],\n",
       "        [ 0.55220739, -0.37183706],\n",
       "        [ 0.51540391, -0.38094198],\n",
       "        [-0.39264095, -0.21096119],\n",
       "        [ 0.53877804, -0.33838567],\n",
       "        [-0.19264671,  0.12452144],\n",
       "        [ 0.28984474,  0.29851068],\n",
       "        [ 0.34409863, -0.36221821],\n",
       "        [ 0.29007986,  0.08695255],\n",
       "        [ 0.23671626,  0.04420972],\n",
       "        [ 0.38232453,  0.38503236],\n",
       "        [-0.47608708, -0.17118235],\n",
       "        [ 0.2971236 ,  0.56891781],\n",
       "        [ 0.54228177, -0.40247966],\n",
       "        [ 0.24126927, -0.30731274],\n",
       "        [ 0.3758471 ,  0.32395364],\n",
       "        [ 0.54674176, -0.38077629],\n",
       "        [-0.43153736, -0.14290256],\n",
       "        [ 0.247248  ,  0.62499157],\n",
       "        [ 0.28068742,  0.13594448],\n",
       "        [ 0.15415523,  0.54302896],\n",
       "        [ 0.31496269,  0.1469255 ],\n",
       "        [ 0.30885177,  0.30942619],\n",
       "        [-0.44856115, -0.19233287],\n",
       "        [-0.35128661, -0.20438243],\n",
       "        [ 0.41769348, -0.40152826],\n",
       "        [-0.47015621, -0.20623114],\n",
       "        [-0.42801427, -0.14266114],\n",
       "        [ 0.3964765 , -0.39162157],\n",
       "        [ 0.18516769, -0.06200857],\n",
       "        [ 0.27036006,  0.49668905],\n",
       "        [ 0.25714908, -0.29756019],\n",
       "        [ 0.41143228, -0.36785247],\n",
       "        [-0.22726133, -0.20502369],\n",
       "        [ 0.25237643,  0.61466257],\n",
       "        [ 0.28306044,  0.06457503],\n",
       "        [ 0.53993035, -0.35371892],\n",
       "        [ 0.42970015,  0.10824518],\n",
       "        [ 0.43356128, -0.40754364],\n",
       "        [ 0.20159967, -0.19643603],\n",
       "        [ 0.15100531,  0.50969326],\n",
       "        [-0.47334827, -0.19356248],\n",
       "        [ 0.44740402,  0.04217348],\n",
       "        [-0.35938308, -0.05550022],\n",
       "        [-0.4532093 , -0.20899352],\n",
       "        [-0.40904794, -0.21398529],\n",
       "        [ 0.53445631, -0.34890056],\n",
       "        [ 0.55093307, -0.39799778],\n",
       "        [ 0.51152792, -0.38360308],\n",
       "        [ 0.27474549,  0.16978635],\n",
       "        [ 0.55158455, -0.36768071],\n",
       "        [ 0.36653345,  0.28388433],\n",
       "        [ 0.21945631, -0.00558102],\n",
       "        [-0.44961721, -0.20948747],\n",
       "        [ 0.25181752, -0.3318569 ],\n",
       "        [ 0.36732897,  0.32216338],\n",
       "        [ 0.37454557, -0.38581573],\n",
       "        [ 0.37740071, -0.16223886],\n",
       "        [ 0.51829394, -0.29459607],\n",
       "        [ 0.25692353,  0.62457203],\n",
       "        [-0.19703703,  0.08995374],\n",
       "        [-0.19530291,  0.11613893],\n",
       "        [-0.44184905, -0.15341111],\n",
       "        [ 0.17475901, -0.08039511],\n",
       "        [ 0.13656667, -0.25835075],\n",
       "        [ 0.53777886, -0.33882885],\n",
       "        [ 0.40484352,  0.29190657],\n",
       "        [-0.3593665 , -0.21656373],\n",
       "        [ 0.34560248,  0.32640824],\n",
       "        [-0.44210266, -0.16836851],\n",
       "        [-0.43116528, -0.14849278],\n",
       "        [-0.46749115, -0.18360047],\n",
       "        [ 0.47091485, -0.05706267],\n",
       "        [-0.40958123, -0.1127773 ],\n",
       "        [ 0.36886627, -0.22922132],\n",
       "        [ 0.42304704,  0.22648104],\n",
       "        [ 0.25744836,  0.0496234 ],\n",
       "        [ 0.47473908, -0.05724337],\n",
       "        [ 0.2406688 , -0.28192967],\n",
       "        [ 0.54395807, -0.33169127],\n",
       "        [ 0.4815886 , -0.04193296],\n",
       "        [ 0.40738298,  0.28157749],\n",
       "        [ 0.30387336,  0.31477018],\n",
       "        [ 0.45039026, -0.41158491],\n",
       "        [-0.37344755, -0.11017782],\n",
       "        [ 0.40152176,  0.30067429],\n",
       "        [ 0.39362897, -0.28275012],\n",
       "        [ 0.54451547, -0.37047983],\n",
       "        [ 0.43410906, -0.40963818],\n",
       "        [-0.36131359, -0.05646204],\n",
       "        [-0.29729172, -0.21324207],\n",
       "        [ 0.53797332, -0.36460886],\n",
       "        [ 0.38569539,  0.35872835],\n",
       "        [ 0.40743007,  0.28616488],\n",
       "        [ 0.54968454, -0.40956955],\n",
       "        [ 0.54083681, -0.37741822]])]"
      ]
     },
     "execution_count": 17,
     "metadata": {},
     "output_type": "execute_result"
    }
   ],
   "source": [
    "icd"
   ]
  },
  {
   "cell_type": "code",
   "execution_count": 16,
   "metadata": {},
   "outputs": [
    {
     "data": {
      "text/plain": [
       "2"
      ]
     },
     "execution_count": 16,
     "metadata": {},
     "output_type": "execute_result"
    }
   ],
   "source": [
    "len(icd[0])"
   ]
  },
  {
   "cell_type": "code",
   "execution_count": 5,
   "metadata": {},
   "outputs": [],
   "source": [
    "#%%timeit\n",
    "#icd = kcca_g_icd.fit_transform(Xsg)"
   ]
  },
  {
   "cell_type": "code",
   "execution_count": 6,
   "metadata": {},
   "outputs": [
    {
     "name": "stdout",
     "output_type": "stream",
     "text": [
      "Below are the canonical correlation of the two components:\n",
      "0.998805983433145 0.997287542632157\n"
     ]
    }
   ],
   "source": [
    "(icdr1, _) = stats.pearsonr(icd[0][:,0], icd[1][:,0])\n",
    "(icdr2, _) = stats.pearsonr(icd[0][:,1], icd[1][:,1])\n",
    "\n",
    "print(\"Below are the canonical correlation of the two components:\")\n",
    "print(icdr1,icdr2)"
   ]
  },
  {
   "cell_type": "code",
   "execution_count": 7,
   "metadata": {},
   "outputs": [
    {
     "data": {
      "image/png": "[encoded data removed]",
      "text/plain": [
       "<Figure size 720x720 with 4 Axes>"
      ]
     },
     "metadata": {},
     "output_type": "display_data"
    }
   ],
   "source": [
    "crossviews_plot(icd, ax_ticks=False, ax_labels=True, equal_axes=True)"
   ]
  },
  {
   "cell_type": "code",
   "execution_count": 8,
   "metadata": {
    "collapsed": true
   },
   "outputs": [],
   "source": [
    "kcca_g_full = KCCA(ktype =\"gaussian\", sigma = 1.0, n_components = 2, reg = 0.01)\n",
    "full = kcca_g_full.fit_transform(Xsg)"
   ]
  },
  {
   "cell_type": "code",
   "execution_count": 9,
   "metadata": {
    "collapsed": true
   },
   "outputs": [],
   "source": [
    "#%%timeit\n",
    "#full = kcca_g_full.fit_transform(Xsg)"
   ]
  },
  {
   "cell_type": "code",
   "execution_count": 10,
   "metadata": {},
   "outputs": [
    {
     "data": {
      "image/png": "[encoded data removed]",
      "text/plain": [
       "<Figure size 720x720 with 4 Axes>"
      ]
     },
     "metadata": {},
     "output_type": "display_data"
    }
   ],
   "source": [
    "crossviews_plot(full, ax_ticks=False, ax_labels=True, equal_axes=True)"
   ]
  },
  {
   "cell_type": "code",
   "execution_count": 11,
   "metadata": {},
   "outputs": [
    {
     "name": "stdout",
     "output_type": "stream",
     "text": [
      "Below are the canonical correlation of the two components:\n",
      "0.9988060118791638 0.9972876357732628\n"
     ]
    }
   ],
   "source": [
    "(fullr1, _) = stats.pearsonr(full[0][:,0], full[1][:,0])\n",
    "(fullr2, _) = stats.pearsonr(full[0][:,1], full[1][:,1])\n",
    "\n",
    "print(\"Below are the canonical correlation of the two components:\")\n",
    "print(fullr1,fullr2)"
   ]
  },
  {
   "cell_type": "code",
   "execution_count": null,
   "metadata": {
    "collapsed": true
   },
   "outputs": [],
   "source": []
  }
 ],
 "metadata": {
  "kernelspec": {
   "display_name": "Python 3",
   "language": "python",
   "name": "python3"
  },
  "language_info": {
   "codemirror_mode": {
    "name": "ipython",
    "version": 3
   },
   "file_extension": ".py",
   "mimetype": "text/x-python",
   "name": "python",
   "nbconvert_exporter": "python",
   "pygments_lexer": "ipython3",
   "version": "3.6.8"
  }
 },
 "nbformat": 4,
 "nbformat_minor": 2
}
