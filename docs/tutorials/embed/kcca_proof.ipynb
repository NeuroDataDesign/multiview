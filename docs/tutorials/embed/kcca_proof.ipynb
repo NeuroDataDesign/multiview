{
 "cells": [
  {
   "cell_type": "code",
   "execution_count": 16,
   "metadata": {},
   "outputs": [],
   "source": [
    "%matplotlib inline\n",
    "import numpy as np\n",
    "import sys\n",
    "sys.path.append(\"../../..\")\n",
    "from multiview.embed.kcca import KCCA\n",
    "import matplotlib.pyplot as plt\n",
    "\n",
    "t = np.random.uniform(-np.pi, np.pi, 80)\n",
    "e1 = np.random.normal(0, 0.5, (80,2))\n",
    "e2 = np.random.normal(0, 0.5, (80,2))"
   ]
  },
  {
   "cell_type": "code",
   "execution_count": 17,
   "metadata": {},
   "outputs": [],
   "source": [
    "x = np.zeros((80,2))\n",
    "x[:,0] = t\n",
    "x[:,1] = np.sin(3*t)\n",
    "x += e1"
   ]
  },
  {
   "cell_type": "code",
   "execution_count": 18,
   "metadata": {},
   "outputs": [],
   "source": [
    "y = np.zeros((80,2))\n",
    "y[:,0] = np.exp(t/4)*np.cos(2*t)\n",
    "y[:,1] = np.exp(t/4)*np.sin(2*t)\n",
    "y += e2"
   ]
  },
  {
   "cell_type": "code",
   "execution_count": 19,
   "metadata": {},
   "outputs": [
    {
     "data": {
      "text/plain": [
       "<multiview.embed.kcca.KCCA at 0x111907908>"
      ]
     },
     "execution_count": 19,
     "metadata": {},
     "output_type": "execute_result"
    }
   ],
   "source": [
    "# Create a gaussian kcca object as an instantiation of the KCCA object class\n",
    "kcca_g = KCCA(ktype =\"gaussian\", reg = 0.01, numCC = 2, gausigma = 1)\n",
    "\n",
    "# Use the train() method to find a gaussian projection between the two views.\n",
    "kcca_g.fit([x, y])"
   ]
  },
  {
   "cell_type": "code",
   "execution_count": 20,
   "metadata": {},
   "outputs": [
    {
     "data": {
      "text/plain": [
       "array([-0.42850971,  0.43083305])"
      ]
     },
     "execution_count": 20,
     "metadata": {},
     "output_type": "execute_result"
    }
   ],
   "source": [
    "kcca_g.cancorrs_"
   ]
  },
  {
   "cell_type": "code",
   "execution_count": 15,
   "metadata": {},
   "outputs": [
    {
     "data": {
      "text/plain": [
       "<matplotlib.collections.PathCollection at 0x12421aeb8>"
      ]
     },
     "execution_count": 15,
     "metadata": {},
     "output_type": "execute_result"
    },
    {
     "data": {
      "image/png": "[encoded data removed]",
      "text/plain": [
       "<matplotlib.figure.Figure at 0x1242f9fd0>"
      ]
     },
     "metadata": {},
     "output_type": "display_data"
    },
    {
     "data": {
      "image/png": "[encoded data removed]",
      "text/plain": [
       "<matplotlib.figure.Figure at 0x1242e6198>"
      ]
     },
     "metadata": {},
     "output_type": "display_data"
    }
   ],
   "source": [
    "fig = plt.figure()\n",
    "plt.scatter(kcca_g.comps_[0][:,0],kcca_g.comps_[1][:,0])\n",
    "fig = plt.figure()\n",
    "plt.scatter(kcca_g.comps_[0][:,1],kcca_g.comps_[1][:,1])"
   ]
  },
  {
   "cell_type": "code",
   "execution_count": null,
   "metadata": {
    "collapsed": true
   },
   "outputs": [],
   "source": []
  }
 ],
 "metadata": {
  "kernelspec": {
   "display_name": "Python 3",
   "language": "python",
   "name": "python3"
  },
  "language_info": {
   "codemirror_mode": {
    "name": "ipython",
    "version": 3
   },
   "file_extension": ".py",
   "mimetype": "text/x-python",
   "name": "python",
   "nbconvert_exporter": "python",
   "pygments_lexer": "ipython3",
   "version": "3.6.5"
  }
 },
 "nbformat": 4,
 "nbformat_minor": 2
}
