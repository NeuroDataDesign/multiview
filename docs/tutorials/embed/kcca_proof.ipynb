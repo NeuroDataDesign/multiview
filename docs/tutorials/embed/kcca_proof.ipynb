{
 "cells": [
  {
   "cell_type": "markdown",
   "metadata": {},
   "source": [
    "# Gaussian kCCA Proof\n",
    "Using simulation data from https://arxiv.org/pdf/cs/0609071.pdf"
   ]
  },
  {
   "cell_type": "code",
   "execution_count": 28,
   "metadata": {
    "collapsed": true
   },
   "outputs": [],
   "source": [
    "%matplotlib inline\n",
    "import numpy as np\n",
    "import sys\n",
    "sys.path.append(\"../../..\")\n",
    "from multiview.embed.kcca import KCCA\n",
    "import matplotlib.pyplot as plt\n",
    "from scipy import linalg, stats\n",
    "from scipy.stats import pearsonr\n",
    "\n",
    "np.random.seed(30)\n",
    "t = np.random.uniform(-np.pi, np.pi, 80)\n",
    "e1 = np.random.normal(0, 0.5, (80,2))\n",
    "e2 = np.random.normal(0, 0.5, (80,2))"
   ]
  },
  {
   "cell_type": "code",
   "execution_count": 42,
   "metadata": {},
   "outputs": [],
   "source": [
    "x = np.zeros((80,2))\n",
    "x[:,0] = t\n",
    "x[:,1] = np.sin(3*t)\n",
    "x += e1\n",
    "\n",
    "y = np.zeros((80,2))\n",
    "y[:,0] = np.exp(t/4)*np.cos(2*t)\n",
    "y[:,1] = np.exp(t/4)*np.sin(2*t)\n",
    "y += e2\n",
    "\n",
    "nSamples=40\n",
    "train1 = x[:nSamples//2]\n",
    "train2 = y[:nSamples//2]\n",
    "test1 = x[nSamples//2:]\n",
    "test2 = y[nSamples//2:]"
   ]
  },
  {
   "cell_type": "markdown",
   "metadata": {},
   "source": [
    "# Train model"
   ]
  },
  {
   "cell_type": "code",
   "execution_count": 43,
   "metadata": {},
   "outputs": [
    {
     "data": {
      "text/plain": [
       "<multiview.embed.kcca.KCCA at 0x11c09b710>"
      ]
     },
     "execution_count": 43,
     "metadata": {},
     "output_type": "execute_result"
    }
   ],
   "source": [
    "# Create a gaussian kcca object as an instantiation of the KCCA object class\n",
    "kcca_gtr = KCCA(ktype =\"gaussian\", reg = 0.0001, numCC = 2, gausigma = 1)\n",
    "\n",
    "# Use the train() method to find a gaussian projection between the two views.\n",
    "kcca_gtr.fit([train1, train2])"
   ]
  },
  {
   "cell_type": "code",
   "execution_count": 44,
   "metadata": {},
   "outputs": [
    {
     "data": {
      "text/plain": [
       "<matplotlib.collections.PathCollection at 0x11bd404a8>"
      ]
     },
     "execution_count": 44,
     "metadata": {},
     "output_type": "execute_result"
    },
    {
     "data": {
      "image/png": "[encoded data removed]",
      "text/plain": [
       "<matplotlib.figure.Figure at 0x11ba5af28>"
      ]
     },
     "metadata": {},
     "output_type": "display_data"
    },
    {
     "data": {
      "image/png": "[encoded data removed]",
      "text/plain": [
       "<matplotlib.figure.Figure at 0x11ba804a8>"
      ]
     },
     "metadata": {},
     "output_type": "display_data"
    }
   ],
   "source": [
    "# Plot each view and its two dimensions. Each view should look similar\n",
    "fig = plt.figure()\n",
    "plt.scatter(kcca_gtr.comps_[0][:,0],kcca_gtr.comps_[1][:,0])\n",
    "fig = plt.figure()\n",
    "plt.scatter(kcca_gtr.comps_[0][:,1],kcca_gtr.comps_[1][:,1])"
   ]
  },
  {
   "cell_type": "code",
   "execution_count": 45,
   "metadata": {
    "scrolled": true
   },
   "outputs": [
    {
     "data": {
      "text/plain": [
       "<matplotlib.collections.PathCollection at 0x11c5a2a58>"
      ]
     },
     "execution_count": 45,
     "metadata": {},
     "output_type": "execute_result"
    },
    {
     "data": {
      "image/png": "[encoded data removed]",
      "text/plain": [
       "<matplotlib.figure.Figure at 0x11bd5ff98>"
      ]
     },
     "metadata": {},
     "output_type": "display_data"
    },
    {
     "data": {
      "image/png": "[encoded data removed]",
      "text/plain": [
       "<matplotlib.figure.Figure at 0x11bd52898>"
      ]
     },
     "metadata": {},
     "output_type": "display_data"
    }
   ],
   "source": [
    "# Plot same dimension across both views. Should be linear\n",
    "fig = plt.figure()\n",
    "plt.scatter(kcca_gtr.comps_[0][:,0],kcca_gtr.comps_[0][:,1])\n",
    "fig = plt.figure()\n",
    "plt.scatter(kcca_gtr.comps_[1][:,0],kcca_gtr.comps_[1][:,1])"
   ]
  },
  {
   "cell_type": "code",
   "execution_count": 46,
   "metadata": {},
   "outputs": [
    {
     "data": {
      "text/plain": [
       "0.9434153796338706"
      ]
     },
     "execution_count": 46,
     "metadata": {},
     "output_type": "execute_result"
    }
   ],
   "source": [
    "corr1, _ = pearsonr(kcca_gtr.comps_[0][:,0],kcca_gtr.comps_[0][:,1])\n",
    "corr1"
   ]
  },
  {
   "cell_type": "code",
   "execution_count": 47,
   "metadata": {},
   "outputs": [
    {
     "data": {
      "text/plain": [
       "0.9518584196844199"
      ]
     },
     "execution_count": 47,
     "metadata": {},
     "output_type": "execute_result"
    }
   ],
   "source": [
    "corr2, _ = pearsonr(kcca_gtr.comps_[1][:,0],kcca_gtr.comps_[1][:,1])\n",
    "corr2"
   ]
  },
  {
   "cell_type": "markdown",
   "metadata": {},
   "source": [
    "# Apply to test data"
   ]
  },
  {
   "cell_type": "code",
   "execution_count": 13,
   "metadata": {},
   "outputs": [],
   "source": [
    "# Use the weights that the model developed and apply it to the test data\n",
    "testcomps1= np.dot(test1, kcca_gtr.ws_[0])\n",
    "testcomps2= np.dot(test2, kcca_gtr.ws_[1])"
   ]
  },
  {
   "cell_type": "code",
   "execution_count": 14,
   "metadata": {},
   "outputs": [
    {
     "data": {
      "text/plain": [
       "<matplotlib.collections.PathCollection at 0x11bcc0668>"
      ]
     },
     "execution_count": 14,
     "metadata": {},
     "output_type": "execute_result"
    },
    {
     "data": {
      "image/png": "[encoded data removed]",
      "text/plain": [
       "<matplotlib.figure.Figure at 0x11baf5f28>"
      ]
     },
     "metadata": {},
     "output_type": "display_data"
    },
    {
     "data": {
      "image/png": "[encoded data removed]",
      "text/plain": [
       "<matplotlib.figure.Figure at 0x11bae49e8>"
      ]
     },
     "metadata": {},
     "output_type": "display_data"
    }
   ],
   "source": [
    "#Plot 1st and 2nd dimension of each view.\n",
    "fig = plt.figure()\n",
    "plt.scatter(testcomps1[:,0],testcomps2[:,0])\n",
    "fig = plt.figure()\n",
    "plt.scatter(testcomps1[:,1],testcomps2[:,1])"
   ]
  },
  {
   "cell_type": "code",
   "execution_count": 15,
   "metadata": {},
   "outputs": [
    {
     "data": {
      "text/plain": [
       "<matplotlib.collections.PathCollection at 0x11bea54a8>"
      ]
     },
     "execution_count": 15,
     "metadata": {},
     "output_type": "execute_result"
    },
    {
     "data": {
      "image/png": "[encoded data removed]",
      "text/plain": [
       "<matplotlib.figure.Figure at 0x11b96f1d0>"
      ]
     },
     "metadata": {},
     "output_type": "display_data"
    },
    {
     "data": {
      "image/png": "[encoded data removed]",
      "text/plain": [
       "<matplotlib.figure.Figure at 0x11bd07780>"
      ]
     },
     "metadata": {},
     "output_type": "display_data"
    }
   ],
   "source": [
    "#Plot same dimension of each view. Confirm linear relationship\n",
    "fig = plt.figure()\n",
    "plt.scatter(testcomps1[:,0],testcomps1[:,1])\n",
    "fig = plt.figure()\n",
    "plt.scatter(testcomps2[:,0],testcomps2[:,1])"
   ]
  },
  {
   "cell_type": "code",
   "execution_count": 16,
   "metadata": {},
   "outputs": [
    {
     "data": {
      "text/plain": [
       "0.9194866300218385"
      ]
     },
     "execution_count": 16,
     "metadata": {},
     "output_type": "execute_result"
    }
   ],
   "source": [
    "corr1, _ = pearsonr(testcomps1[:,0],testcomps1[:,1])\n",
    "corr1"
   ]
  },
  {
   "cell_type": "code",
   "execution_count": 17,
   "metadata": {},
   "outputs": [
    {
     "data": {
      "text/plain": [
       "0.9249447996423246"
      ]
     },
     "execution_count": 17,
     "metadata": {},
     "output_type": "execute_result"
    }
   ],
   "source": [
    "corr2, _ = pearsonr(testcomps2[:,0],testcomps2[:,1])\n",
    "corr2"
   ]
  },
  {
   "cell_type": "markdown",
   "metadata": {},
   "source": [
    "# Combined linear releationship"
   ]
  },
  {
   "cell_type": "code",
   "execution_count": 53,
   "metadata": {},
   "outputs": [
    {
     "data": {
      "text/plain": [
       "<matplotlib.text.Text at 0x11cccb4e0>"
      ]
     },
     "execution_count": 53,
     "metadata": {},
     "output_type": "execute_result"
    },
    {
     "data": {
      "image/png": "[encoded data removed]",
      "text/plain": [
       "<matplotlib.figure.Figure at 0x11c7b3f60>"
      ]
     },
     "metadata": {},
     "output_type": "display_data"
    },
    {
     "data": {
      "image/png": "[encoded data removed]",
      "text/plain": [
       "<matplotlib.figure.Figure at 0x11cc46780>"
      ]
     },
     "metadata": {},
     "output_type": "display_data"
    }
   ],
   "source": [
    "# Plot same dimension across both views. Should be linear\n",
    "fig = plt.figure()\n",
    "plt.scatter(kcca_gtr.comps_[0][:,0],kcca_gtr.comps_[0][:,1], color='blue')\n",
    "plt.scatter(testcomps1[:,0],testcomps1[:,1], color='blue')\n",
    "plt.xlabel('View 1 Component 1')\n",
    "plt.ylabel('View 2 Component 1')\n",
    "\n",
    "fig = plt.figure()\n",
    "plt.scatter(kcca_gtr.comps_[1][:,0],kcca_gtr.comps_[1][:,1], color='blue')\n",
    "plt.scatter(testcomps2[:,0],testcomps2[:,1], color='blue')\n",
    "plt.xlabel('View 1 Component 2')\n",
    "plt.ylabel('View 2 Component 2')"
   ]
  },
  {
   "cell_type": "code",
   "execution_count": null,
   "metadata": {
    "collapsed": true
   },
   "outputs": [],
   "source": []
  }
 ],
 "metadata": {
  "kernelspec": {
   "display_name": "Python 3",
   "language": "python",
   "name": "python3"
  },
  "language_info": {
   "codemirror_mode": {
    "name": "ipython",
    "version": 3
   },
   "file_extension": ".py",
   "mimetype": "text/x-python",
   "name": "python",
   "nbconvert_exporter": "python",
   "pygments_lexer": "ipython3",
   "version": "3.6.5"
  }
 },
 "nbformat": 4,
 "nbformat_minor": 2
}
