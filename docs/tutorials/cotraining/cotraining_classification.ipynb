{
 "cells": [
  {
   "cell_type": "markdown",
   "metadata": {},
   "source": [
    "## Using the Co-Training Classifier for 2-View Classification"
   ]
  },
  {
   "cell_type": "code",
   "execution_count": 1,
   "metadata": {
    "collapsed": true
   },
   "outputs": [],
   "source": [
    "import numpy as np\n",
    "from sklearn.naive_bayes import GaussianNB\n",
    "from sklearn.model_selection import train_test_split\n",
    "from sklearn.metrics import accuracy_score\n",
    "from sklearn.ensemble import RandomForestClassifier\n",
    "\n",
    "from multiview.cotraining.ctclassifier import CTClassifier\n",
    "from multiview.datasets.base import load_UCImultifeature"
   ]
  },
  {
   "cell_type": "markdown",
   "metadata": {},
   "source": [
    "### Load the UCI Multiple Features Dataset as an Example\n",
    "To simulate a semi-supervised learning scenario, randomly remove many labels."
   ]
  },
  {
   "cell_type": "code",
   "execution_count": 2,
   "metadata": {},
   "outputs": [
    {
     "name": "stdout",
     "output_type": "stream",
     "text": [
      "[ 0.  0.  1.  1.]\n"
     ]
    }
   ],
   "source": [
    "data, labels = load_UCImultifeature(select_labeled=[0,1])\n",
    "\n",
    "# Use only the first 2 views as an example\n",
    "View0, View1 = data[0], data[1]\n",
    "\n",
    "# Split both views into testing and training\n",
    "View0_train, View0_test, labels_train, labels_test = train_test_split(View0, labels, test_size=0.33, random_state=42)\n",
    "View1_train, View1_test, labels_train, labels_test = train_test_split(View1, labels, test_size=0.33, random_state=42)\n",
    "\n",
    "# Randomly remove all but 4 of the labels\n",
    "np.random.seed(6)\n",
    "remove_idx = np.random.rand(len(labels_train),) < 0.98\n",
    "labels_train[remove_idx] = np.nan\n",
    "not_removed = np.where(remove_idx==False)\n",
    "print(labels_train[not_removed])"
   ]
  },
  {
   "cell_type": "markdown",
   "metadata": {},
   "source": [
    "### Co-Training on 2 Views vs. Single View Semi-Supervised Learning\n",
    "Here, we use the default co-training classifier, which uses Gaussian naive bayes classifiers for both views. We compare its performance to the single-view semi-supervised setting with the same basic classifiers."
   ]
  },
  {
   "cell_type": "code",
   "execution_count": 3,
   "metadata": {},
   "outputs": [
    {
     "name": "stdout",
     "output_type": "stream",
     "text": [
      "Single View Accuracy on First View: 0.803\n",
      "\n",
      "Single View Accuracy on Second View: 0.864\n",
      "\n",
      "Co-Training Accuracy on 2 Views: 0.970\n"
     ]
    }
   ],
   "source": [
    "############## Single view semi-supervised learning ##############\n",
    "#-----------------------------------------------------------------\n",
    "gnb0 = GaussianNB()\n",
    "gnb1 = GaussianNB()\n",
    "\n",
    "# Train on only the examples with labels\n",
    "gnb0.fit(View0_train[not_removed,:].squeeze(), labels_train[not_removed])\n",
    "y_pred0 = gnb0.predict(View0_test)\n",
    "gnb1.fit(View1_train[not_removed,:].squeeze(), labels_train[not_removed])\n",
    "y_pred1 = gnb1.predict(View1_test)\n",
    "\n",
    "print(\"Single View Accuracy on First View: {0:.3f}\\n\".format(accuracy_score(labels_test, y_pred0)))\n",
    "print(\"Single View Accuracy on Second View: {0:.3f}\\n\".format(accuracy_score(labels_test, y_pred1)))\n",
    "\n",
    "######### Multi-view co-training semi-supervised learning #########\n",
    "#------------------------------------------------------------------\n",
    "# Train a CTClassifier on all the labeled and unlabeled training data\n",
    "ctc = CTClassifier()\n",
    "ctc.fit([View0_train, View1_train], labels_train)\n",
    "y_pred_ct = ctc.predict([View0_test, View1_test])\n",
    "\n",
    "print(\"Co-Training Accuracy on 2 Views: {0:.3f}\".format(accuracy_score(labels_test, y_pred_ct)))"
   ]
  },
  {
   "cell_type": "markdown",
   "metadata": {},
   "source": [
    "### Select Different Base Classifiers for the Views and Change the CTClassifier fit() parameters\n",
    "Now, we use a random forest classifier with different attributes for each view. \n",
    "Furthermore, we manually select the number of positive (p) and negative (n) examples chosen each round in the co-training process, and we define the unlabeled pool size to draw them from and the number of iterations of training to perform."
   ]
  },
  {
   "cell_type": "code",
   "execution_count": 4,
   "metadata": {
    "scrolled": true
   },
   "outputs": [
    {
     "name": "stdout",
     "output_type": "stream",
     "text": [
      "Single View Accuracy on First View: 0.674\n",
      "\n",
      "Single View Accuracy on Second View: 0.939\n",
      "\n",
      "Co-Training Accuracy: 0.977\n"
     ]
    }
   ],
   "source": [
    "############## Single view semi-supervised learning ##############\n",
    "#-----------------------------------------------------------------\n",
    "rfc0 = RandomForestClassifier(n_estimators=8, bootstrap=True)\n",
    "rfc1 = RandomForestClassifier(n_estimators=5, bootstrap=False)\n",
    "\n",
    "# Train on only the examples with labels\n",
    "rfc0.fit(View0_train[not_removed,:].squeeze(), labels_train[not_removed])\n",
    "y_pred0 = rfc0.predict(View0_test)\n",
    "rfc1.fit(View1_train[not_removed,:].squeeze(), labels_train[not_removed])\n",
    "y_pred1 = rfc1.predict(View1_test)\n",
    "\n",
    "print(\"Single View Accuracy on First View: {0:.3f}\\n\".format(accuracy_score(labels_test, y_pred0)))\n",
    "print(\"Single View Accuracy on Second View: {0:.3f}\\n\".format(accuracy_score(labels_test, y_pred1)))\n",
    "\n",
    "######### Multi-view co-training semi-supervised learning #########\n",
    "#------------------------------------------------------------------\n",
    "rfc0 = RandomForestClassifier(n_estimators=8, bootstrap=True)\n",
    "rfc1 = RandomForestClassifier(n_estimators=5, bootstrap=False)\n",
    "ctc = CTClassifier(rfc0, rfc1)\n",
    "ctc.fit([View0_train, View1_train], labels_train, p=2, n=2, unlabeled_pool_size=20, num_iter=100)\n",
    "y_pred_ct = ctc.predict([View0_test, View1_test])\n",
    "\n",
    "print(\"Co-Training Accuracy: {0:.3f}\".format(accuracy_score(labels_test, y_pred_ct)))"
   ]
  },
  {
   "cell_type": "markdown",
   "metadata": {
    "collapsed": true
   },
   "source": [
    "### Get the prediction probabilities for all the examples"
   ]
  },
  {
   "cell_type": "code",
   "execution_count": 5,
   "metadata": {},
   "outputs": [
    {
     "name": "stdout",
     "output_type": "stream",
     "text": [
      "Full shape = (132, 2)\n",
      "\n",
      "First 10 example probabilities:\n",
      "\n",
      "[[ 0.1     0.9   ]\n",
      " [ 0.0625  0.9375]\n",
      " [ 0.5     0.5   ]\n",
      " [ 0.0625  0.9375]\n",
      " [ 1.      0.    ]\n",
      " [ 0.7125  0.2875]\n",
      " [ 0.1625  0.8375]\n",
      " [ 0.875   0.125 ]\n",
      " [ 0.      1.    ]\n",
      " [ 0.8125  0.1875]]\n"
     ]
    }
   ],
   "source": [
    "y_pred_proba = ctc.predict_proba([View0_test, View1_test])\n",
    "print(\"Full shape = \" + str(y_pred_proba.shape))\n",
    "print(\"\\nFirst 10 example probabilities:\\n\")\n",
    "print(y_pred_proba[:10,:])"
   ]
  }
 ],
 "metadata": {
  "kernelspec": {
   "display_name": "Python 3",
   "language": "python",
   "name": "python3"
  },
  "language_info": {
   "codemirror_mode": {
    "name": "ipython",
    "version": 3
   },
   "file_extension": ".py",
   "mimetype": "text/x-python",
   "name": "python",
   "nbconvert_exporter": "python",
   "pygments_lexer": "ipython3",
   "version": "3.6.5"
  }
 },
 "nbformat": 4,
 "nbformat_minor": 2
}
